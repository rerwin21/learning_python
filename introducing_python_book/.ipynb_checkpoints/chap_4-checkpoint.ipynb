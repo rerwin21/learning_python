{
 "cells": [
  {
   "cell_type": "markdown",
   "metadata": {},
   "source": [
    "# Chapter 4: Code Structures\n",
    "Indent (when necessary) with four lines and don't use 'tab'"
   ]
  },
  {
   "cell_type": "markdown",
   "metadata": {},
   "source": [
    "In this example, we see that an empty list is evalutated as *False*. See other examples on page 74."
   ]
  },
  {
   "cell_type": "code",
   "execution_count": 1,
   "metadata": {
    "collapsed": false
   },
   "outputs": [
    {
     "name": "stdout",
     "output_type": "stream",
     "text": [
      "Please add an item to the list\n"
     ]
    }
   ],
   "source": [
    "some_list = []\n",
    "if some_list:\n",
    "    print(\"There is something in here\")\n",
    "else:\n",
    "    print(\"Please add an item to the list\")\n",
    "        "
   ]
  },
  {
   "cell_type": "markdown",
   "metadata": {},
   "source": [
    "### While Loop"
   ]
  },
  {
   "cell_type": "code",
   "execution_count": 2,
   "metadata": {
    "collapsed": false
   },
   "outputs": [
    {
     "name": "stdout",
     "output_type": "stream",
     "text": [
      "1\n",
      "2\n",
      "3\n",
      "4\n",
      "5\n"
     ]
    }
   ],
   "source": [
    "count = 1\n",
    "while count <= 5:\n",
    "    print(count)\n",
    "    count += 1"
   ]
  },
  {
   "cell_type": "markdown",
   "metadata": {},
   "source": [
    "Infinite loop stopped using *break*"
   ]
  },
  {
   "cell_type": "code",
   "execution_count": 5,
   "metadata": {
    "collapsed": false,
    "scrolled": true
   },
   "outputs": [
    {
     "name": "stdout",
     "output_type": "stream",
     "text": [
      "String to capitalize [type q to quit]: ufc\n",
      "Ufc\n",
      "UFC\n",
      "String to capitalize [type q to quit]: nfl\n",
      "Nfl\n",
      "NFL\n",
      "String to capitalize [type q to quit]: nasa\n",
      "Nasa\n",
      "NASA\n",
      "String to capitalize [type q to quit]: linux\n",
      "Linux\n",
      "LINUX\n",
      "String to capitalize [type q to quit]: windows\n",
      "Windows\n",
      "WINDOWS\n",
      "String to capitalize [type q to quit]: mlb\n",
      "Mlb\n",
      "MLB\n",
      "String to capitalize [type q to quit]: lw\n",
      "Lw\n",
      "LW\n",
      "String to capitalize [type q to quit]: q\n"
     ]
    }
   ],
   "source": [
    "while True:\n",
    "    stuff = input(\"String to capitalize [type q to quit]: \")\n",
    "    if stuff == \"q\":\n",
    "        break\n",
    "    print(stuff.capitalize())\n",
    "    print(stuff.upper())"
   ]
  },
  {
   "cell_type": "markdown",
   "metadata": {},
   "source": [
    "while True:\n",
    "    value = input(\"Integer, please [q to quit]: \")\n",
    "    if value == 'q':\n",
    "        break\n",
    "    number = int(value)\n",
    "    if number % 2 == 0:\n",
    "        continue\n",
    "    else:\n",
    "        print(number, \"squared is\", number * number)"
   ]
  },
  {
   "cell_type": "code",
   "execution_count": 10,
   "metadata": {
    "collapsed": false
   },
   "outputs": [
    {
     "name": "stdout",
     "output_type": "stream",
     "text": [
      "No even number found\n"
     ]
    }
   ],
   "source": [
    "numbers = [1, 3, 5]\n",
    "position = 0\n",
    "while position < len(numbers):\n",
    "    number = numbers[position]\n",
    "    if number % 2 == 0:\n",
    "        print('Found even number', number)\n",
    "        break\n",
    "    position += 1\n",
    "else: # break not called\n",
    "    print('No even number found')\n",
    "    "
   ]
  },
  {
   "cell_type": "markdown",
   "metadata": {},
   "source": [
    "### For Loop"
   ]
  },
  {
   "cell_type": "code",
   "execution_count": 12,
   "metadata": {
    "collapsed": false
   },
   "outputs": [
    {
     "name": "stdout",
     "output_type": "stream",
     "text": [
      "Flopsy\n",
      "Mopsy\n",
      "Cottontail\n",
      "Peter\n"
     ]
    }
   ],
   "source": [
    "rabbits = ['flopsy', 'mopsy', 'cottontail', 'peter']\n",
    "for rabbit in rabbits:\n",
    "    print(rabbit.capitalize())"
   ]
  },
  {
   "cell_type": "code",
   "execution_count": 16,
   "metadata": {
    "collapsed": false
   },
   "outputs": [
    {
     "name": "stdout",
     "output_type": "stream",
     "text": [
      "c\n",
      "c\n",
      "a\n",
      "ca\n",
      "t\n",
      "cat\n"
     ]
    }
   ],
   "source": [
    "word = 'cat'\n",
    "letters = ''\n",
    "for letter in word:\n",
    "    print(letter)\n",
    "    letters += letter\n",
    "    print(letters)"
   ]
  },
  {
   "cell_type": "code",
   "execution_count": 17,
   "metadata": {
    "collapsed": true
   },
   "outputs": [],
   "source": [
    "accusation = {\n",
    "    'room': 'ballroom',\n",
    "    'weapon': 'lead pipe',\n",
    "    'person': 'Col. Mustard'\n",
    "}"
   ]
  },
  {
   "cell_type": "code",
   "execution_count": 18,
   "metadata": {
    "collapsed": false
   },
   "outputs": [
    {
     "name": "stdout",
     "output_type": "stream",
     "text": [
      "room\n",
      "person\n",
      "weapon\n"
     ]
    }
   ],
   "source": [
    "for card in accusation:\n",
    "    print(card)"
   ]
  },
  {
   "cell_type": "code",
   "execution_count": 19,
   "metadata": {
    "collapsed": false
   },
   "outputs": [
    {
     "name": "stdout",
     "output_type": "stream",
     "text": [
      "ballroom\n",
      "Col. Mustard\n",
      "lead pipe\n"
     ]
    }
   ],
   "source": [
    "for value in accusation.values():\n",
    "    print(value)"
   ]
  },
  {
   "cell_type": "code",
   "execution_count": 20,
   "metadata": {
    "collapsed": false
   },
   "outputs": [
    {
     "name": "stdout",
     "output_type": "stream",
     "text": [
      "('room', 'ballroom')\n",
      "('person', 'Col. Mustard')\n",
      "('weapon', 'lead pipe')\n"
     ]
    }
   ],
   "source": [
    "for item in accusation.items():\n",
    "    print(item)"
   ]
  },
  {
   "cell_type": "code",
   "execution_count": 21,
   "metadata": {
    "collapsed": false
   },
   "outputs": [
    {
     "name": "stdout",
     "output_type": "stream",
     "text": [
      "The value of room is ballroom\n",
      "The value of person is Col. Mustard\n",
      "The value of weapon is lead pipe\n"
     ]
    }
   ],
   "source": [
    "for card, value in accusation.items():\n",
    "    print('The value of %s is %s' % (card, value))"
   ]
  },
  {
   "cell_type": "code",
   "execution_count": 22,
   "metadata": {
    "collapsed": false
   },
   "outputs": [
    {
     "name": "stdout",
     "output_type": "stream",
     "text": [
      "It would help if there was some cheese\n"
     ]
    }
   ],
   "source": [
    "cheeses = []\n",
    "for cheese in cheeses:\n",
    "    print('This shop has some lovely', cheese)\n",
    "    break\n",
    "else: # break not called\n",
    "    print('It would help if there was some cheese')"
   ]
  },
  {
   "cell_type": "markdown",
   "metadata": {},
   "source": [
    "**zip()**"
   ]
  },
  {
   "cell_type": "code",
   "execution_count": 23,
   "metadata": {
    "collapsed": false
   },
   "outputs": [
    {
     "name": "stdout",
     "output_type": "stream",
     "text": [
      "Monday : drink coffee - eat banana - enjoy tiramasu\n",
      "Tuesday : drink tea - eat orange - enjoy ice cream\n",
      "Wednesday : drink beer - eat peach - enjoy pie\n"
     ]
    }
   ],
   "source": [
    "days = ['Monday', 'Tuesday', 'Wednesday']\n",
    "fruits = ['banana', 'orange', 'peach']\n",
    "drinks = ['coffee', 'tea', 'beer']\n",
    "desserts = ['tiramasu', 'ice cream', 'pie', 'pudding']\n",
    "\n",
    "for day, fruit, drink, dessert in zip(days, fruits, drinks, desserts):\n",
    "    print(day, \": drink\", drink, \"- eat\", fruit, \"- enjoy\", dessert)"
   ]
  },
  {
   "cell_type": "markdown",
   "metadata": {},
   "source": [
    "zip() stops when the shortest sequence is done: notice that nobody is getting any pudding."
   ]
  },
  {
   "cell_type": "markdown",
   "metadata": {},
   "source": [
    "Use zip() to walk through multiple sequences at the same offset"
   ]
  },
  {
   "cell_type": "code",
   "execution_count": 24,
   "metadata": {
    "collapsed": true
   },
   "outputs": [],
   "source": [
    "english = 'Monday', 'Tuesday', 'Wednesday'\n",
    "french = 'Lundi', 'Mardi', 'Mercredi'"
   ]
  },
  {
   "cell_type": "code",
   "execution_count": 25,
   "metadata": {
    "collapsed": false
   },
   "outputs": [
    {
     "data": {
      "text/plain": [
       "[('Monday', 'Lundi'), ('Tuesday', 'Mardi'), ('Wednesday', 'Mercredi')]"
      ]
     },
     "execution_count": 25,
     "metadata": {},
     "output_type": "execute_result"
    }
   ],
   "source": [
    "# pair two tuples\n",
    "list(zip(english, french))"
   ]
  },
  {
   "cell_type": "code",
   "execution_count": 26,
   "metadata": {
    "collapsed": false
   },
   "outputs": [
    {
     "data": {
      "text/plain": [
       "{'Monday': 'Lundi', 'Tuesday': 'Mardi', 'Wednesday': 'Mercredi'}"
      ]
     },
     "execution_count": 26,
     "metadata": {},
     "output_type": "execute_result"
    }
   ],
   "source": [
    "# dict\n",
    "dict( zip(english, french))"
   ]
  },
  {
   "cell_type": "markdown",
   "metadata": {},
   "source": [
    "**Generate Number Sequences with range()**"
   ]
  },
  {
   "cell_type": "code",
   "execution_count": 27,
   "metadata": {
    "collapsed": false
   },
   "outputs": [
    {
     "name": "stdout",
     "output_type": "stream",
     "text": [
      "0\n",
      "1\n",
      "2\n"
     ]
    }
   ],
   "source": [
    "for x in range(0 ,3):\n",
    "    print(x)"
   ]
  },
  {
   "cell_type": "code",
   "execution_count": 28,
   "metadata": {
    "collapsed": false
   },
   "outputs": [
    {
     "name": "stdout",
     "output_type": "stream",
     "text": [
      "2\n",
      "1\n",
      "0\n"
     ]
    }
   ],
   "source": [
    "for x in range(2, -1, -1):\n",
    "    print(x)"
   ]
  },
  {
   "cell_type": "code",
   "execution_count": 32,
   "metadata": {
    "collapsed": false
   },
   "outputs": [
    {
     "data": {
      "text/plain": [
       "[0, 2, 4, 6, 8, 10]"
      ]
     },
     "execution_count": 32,
     "metadata": {},
     "output_type": "execute_result"
    }
   ],
   "source": [
    "list(range(0, 11, 2))"
   ]
  },
  {
   "cell_type": "markdown",
   "metadata": {},
   "source": [
    "### Comprehensions\n",
    "#### List Comprehensions"
   ]
  },
  {
   "cell_type": "code",
   "execution_count": 33,
   "metadata": {
    "collapsed": false
   },
   "outputs": [
    {
     "data": {
      "text/plain": [
       "[1, 2, 3, 4, 5]"
      ]
     },
     "execution_count": 33,
     "metadata": {},
     "output_type": "execute_result"
    }
   ],
   "source": [
    "number_list = [number for number in range(1, 6)]\n",
    "number_list"
   ]
  },
  {
   "cell_type": "code",
   "execution_count": 34,
   "metadata": {
    "collapsed": false
   },
   "outputs": [
    {
     "data": {
      "text/plain": [
       "[1, 3, 5]"
      ]
     },
     "execution_count": 34,
     "metadata": {},
     "output_type": "execute_result"
    }
   ],
   "source": [
    "a_list = [number for number in range(1, 6) if number % 2 == 1]\n",
    "a_list"
   ]
  },
  {
   "cell_type": "code",
   "execution_count": 35,
   "metadata": {
    "collapsed": false
   },
   "outputs": [
    {
     "data": {
      "text/plain": [
       "[1, 3, 5]"
      ]
     },
     "execution_count": 35,
     "metadata": {},
     "output_type": "execute_result"
    }
   ],
   "source": [
    "# traditional counterpart to a_list\n",
    "a_list = []\n",
    "for number in range(1, 6):\n",
    "    if number % 2 == 1:\n",
    "        a_list.append(number)\n",
    "        \n",
    "a_list"
   ]
  },
  {
   "cell_type": "code",
   "execution_count": 37,
   "metadata": {
    "collapsed": false
   },
   "outputs": [
    {
     "name": "stdout",
     "output_type": "stream",
     "text": [
      "1 1\n",
      "1 2\n",
      "2 1\n",
      "2 2\n",
      "3 1\n",
      "3 2\n"
     ]
    }
   ],
   "source": [
    "# traditional nested loop\n",
    "rows = range(1, 4)\n",
    "cols = range(1, 3)\n",
    "for row in rows:\n",
    "    for col in cols:\n",
    "        print(row, col)"
   ]
  },
  {
   "cell_type": "code",
   "execution_count": null,
   "metadata": {
    "collapsed": true
   },
   "outputs": [],
   "source": [
    "# nested for in comprehension\n",
    "rows = range(1, 4)\n",
    "cols = range(1, 3)\n",
    "cells = [(row, col) for row in rows for col in cols]\n",
    "for cell in cells:\n",
    "    print(cell)\n",
    "    \n",
    "cells"
   ]
  },
  {
   "cell_type": "markdown",
   "metadata": {},
   "source": [
    "#### Dictionary Comprehensions"
   ]
  },
  {
   "cell_type": "code",
   "execution_count": 56,
   "metadata": {
    "collapsed": false
   },
   "outputs": [
    {
     "data": {
      "text/plain": [
       "{'e': 2, 'l': 1, 'r': 1, 's': 1, 't': 2}"
      ]
     },
     "execution_count": 56,
     "metadata": {},
     "output_type": "execute_result"
    }
   ],
   "source": [
    "word = 'letters'\n",
    "letter_counts = {alpha: word.count(alpha) for alpha in set(word)}\n",
    "letter_counts\n"
   ]
  },
  {
   "cell_type": "markdown",
   "metadata": {},
   "source": [
    "#### Set Comprehension"
   ]
  },
  {
   "cell_type": "code",
   "execution_count": 58,
   "metadata": {
    "collapsed": false
   },
   "outputs": [
    {
     "data": {
      "text/plain": [
       "{1, 4}"
      ]
     },
     "execution_count": 58,
     "metadata": {},
     "output_type": "execute_result"
    }
   ],
   "source": [
    "a_set  = {number for number in range(1, 6) if number % 3 == 1}\n",
    "a_set"
   ]
  },
  {
   "cell_type": "markdown",
   "metadata": {},
   "source": [
    "#### Generator Comprehension"
   ]
  },
  {
   "cell_type": "code",
   "execution_count": 70,
   "metadata": {
    "collapsed": false
   },
   "outputs": [
    {
     "data": {
      "text/plain": [
       "generator"
      ]
     },
     "execution_count": 70,
     "metadata": {},
     "output_type": "execute_result"
    }
   ],
   "source": [
    "number_thing = (number for number in range(1, 6))\n",
    "type(number_thing)"
   ]
  },
  {
   "cell_type": "code",
   "execution_count": 68,
   "metadata": {
    "collapsed": false
   },
   "outputs": [
    {
     "name": "stdout",
     "output_type": "stream",
     "text": [
      "1\n",
      "2\n",
      "3\n",
      "4\n",
      "5\n"
     ]
    }
   ],
   "source": [
    "number_list = list(number_thing)\n",
    "number_list"
   ]
  },
  {
   "cell_type": "code",
   "execution_count": 72,
   "metadata": {
    "collapsed": false
   },
   "outputs": [
    {
     "data": {
      "text/plain": [
       "[]"
      ]
     },
     "execution_count": 72,
     "metadata": {},
     "output_type": "execute_result"
    }
   ],
   "source": [
    "# a generator can only be iterated one time, then it is gone from memory\n",
    "try_again = list(number_thing)\n",
    "try_again"
   ]
  },
  {
   "cell_type": "markdown",
   "metadata": {},
   "source": [
    "### Functions"
   ]
  },
  {
   "cell_type": "code",
   "execution_count": 73,
   "metadata": {
    "collapsed": true
   },
   "outputs": [],
   "source": [
    "# simplest function you could have\n",
    "def do_nothing():\n",
    "    pass"
   ]
  },
  {
   "cell_type": "code",
   "execution_count": 74,
   "metadata": {
    "collapsed": true
   },
   "outputs": [],
   "source": [
    "do_nothing()"
   ]
  },
  {
   "cell_type": "code",
   "execution_count": 75,
   "metadata": {
    "collapsed": true
   },
   "outputs": [],
   "source": [
    "def make_a_sound():\n",
    "    print('Quack')"
   ]
  },
  {
   "cell_type": "code",
   "execution_count": 76,
   "metadata": {
    "collapsed": false
   },
   "outputs": [
    {
     "name": "stdout",
     "output_type": "stream",
     "text": [
      "Quack\n"
     ]
    }
   ],
   "source": [
    "make_a_sound()"
   ]
  },
  {
   "cell_type": "code",
   "execution_count": 77,
   "metadata": {
    "collapsed": true
   },
   "outputs": [],
   "source": [
    "def echo(anything):\n",
    "    return anything + ' ' + anything"
   ]
  },
  {
   "cell_type": "code",
   "execution_count": 78,
   "metadata": {
    "collapsed": false
   },
   "outputs": [
    {
     "data": {
      "text/plain": [
       "'yolo yolo'"
      ]
     },
     "execution_count": 78,
     "metadata": {},
     "output_type": "execute_result"
    }
   ],
   "source": [
    "echo('yolo')"
   ]
  },
  {
   "cell_type": "code",
   "execution_count": 84,
   "metadata": {
    "collapsed": true
   },
   "outputs": [],
   "source": [
    "def commentary(color):\n",
    "    if color == 'red':\n",
    "        return \"It's a tomato.\"\n",
    "    elif color == 'green':\n",
    "        return \"It's a green pepper.\"\n",
    "    elif color == 'bee purple':\n",
    "        return \"I don't know what it is, but only bees can see it.\"\n",
    "    else:\n",
    "        return \"I've never heard of the color \" + color + \".\""
   ]
  },
  {
   "cell_type": "code",
   "execution_count": 85,
   "metadata": {
    "collapsed": false
   },
   "outputs": [
    {
     "name": "stdout",
     "output_type": "stream",
     "text": [
      "It's a tomato.\n",
      "It's a green pepper.\n",
      "I don't know what it is, but only bees can see it.\n",
      "I've never heard of the color blue.\n"
     ]
    }
   ],
   "source": [
    "print(commentary('red'))\n",
    "print(commentary('green'))\n",
    "print(commentary('bee purple'))\n",
    "print(commentary('blue'))"
   ]
  },
  {
   "cell_type": "code",
   "execution_count": 86,
   "metadata": {
    "collapsed": false
   },
   "outputs": [
    {
     "name": "stdout",
     "output_type": "stream",
     "text": [
      "None\n"
     ]
    }
   ],
   "source": [
    "# what happens if when nothing is returned again\n",
    "print(do_nothing())"
   ]
  },
  {
   "cell_type": "markdown",
   "metadata": {},
   "source": [
    "**Note**: None and False are not the same thing. Empty objects like lists and dictionaries are evaluated as False, not None."
   ]
  },
  {
   "cell_type": "markdown",
   "metadata": {},
   "source": [
    "#### Argument Discussion\n",
    "Positional Arguments, the use of asterisks, and default values for arguments"
   ]
  },
  {
   "cell_type": "markdown",
   "metadata": {},
   "source": [
    "position arguments"
   ]
  },
  {
   "cell_type": "code",
   "execution_count": 87,
   "metadata": {
    "collapsed": true
   },
   "outputs": [],
   "source": [
    "def menu(wine, entree, dessert):\n",
    "    return {'wine': wine, 'entree': entree, 'dessert': dessert}"
   ]
  },
  {
   "cell_type": "code",
   "execution_count": 88,
   "metadata": {
    "collapsed": false
   },
   "outputs": [
    {
     "data": {
      "text/plain": [
       "{'dessert': 'cookies', 'entree': 'chicken', 'wine': 'merlot'}"
      ]
     },
     "execution_count": 88,
     "metadata": {},
     "output_type": "execute_result"
    }
   ],
   "source": [
    "# use the positions\n",
    "menu('merlot', 'chicken', 'cookies')"
   ]
  },
  {
   "cell_type": "code",
   "execution_count": 90,
   "metadata": {
    "collapsed": false
   },
   "outputs": [
    {
     "data": {
      "text/plain": [
       "{'dessert': 'cake', 'entree': 'beef', 'wine': 'chardonnay'}"
      ]
     },
     "execution_count": 90,
     "metadata": {},
     "output_type": "execute_result"
    }
   ],
   "source": [
    "# use keywords\n",
    "menu(dessert = 'cake', wine = 'chardonnay', entree = 'beef')"
   ]
  },
  {
   "cell_type": "code",
   "execution_count": 91,
   "metadata": {
    "collapsed": true
   },
   "outputs": [],
   "source": [
    "# default value\n",
    "def menu(wine, entree, dessert = 'pudding'):\n",
    "    return {'wine': wine, 'entree': entree, 'dessert': dessert}"
   ]
  },
  {
   "cell_type": "code",
   "execution_count": 92,
   "metadata": {
    "collapsed": false
   },
   "outputs": [
    {
     "data": {
      "text/plain": [
       "{'dessert': 'pudding', 'entree': 'shrimp', 'wine': 'chardonnay'}"
      ]
     },
     "execution_count": 92,
     "metadata": {},
     "output_type": "execute_result"
    }
   ],
   "source": [
    "menu('chardonnay', 'shrimp')"
   ]
  },
  {
   "cell_type": "markdown",
   "metadata": {},
   "source": [
    "**Note**: default values must be immutable: not lists or dictionaries "
   ]
  },
  {
   "cell_type": "code",
   "execution_count": 93,
   "metadata": {
    "collapsed": true
   },
   "outputs": [],
   "source": [
    "# gather positional arguments\n",
    "def print_args(*args):\n",
    "    print('Positional argument tuple:', args)"
   ]
  },
  {
   "cell_type": "code",
   "execution_count": 94,
   "metadata": {
    "collapsed": false
   },
   "outputs": [
    {
     "name": "stdout",
     "output_type": "stream",
     "text": [
      "Positional argument tuple: ()\n"
     ]
    }
   ],
   "source": [
    "print_args()"
   ]
  },
  {
   "cell_type": "code",
   "execution_count": 95,
   "metadata": {
    "collapsed": false
   },
   "outputs": [
    {
     "name": "stdout",
     "output_type": "stream",
     "text": [
      "Positional argument tuple: (3, 2, 1, 'wait', 'hu...?')\n"
     ]
    }
   ],
   "source": [
    "print_args(3, 2, 1, 'wait', 'hu...?')"
   ]
  },
  {
   "cell_type": "code",
   "execution_count": 106,
   "metadata": {
    "collapsed": true
   },
   "outputs": [],
   "source": [
    "# gather positional arguments coupled with required arguments\n",
    "def print_args(wine, cheese, *args):\n",
    "    print('Needs my', wine)\n",
    "    print('Needs my', cheese, 'too')\n",
    "    print('And all of these too ', args)"
   ]
  },
  {
   "cell_type": "code",
   "execution_count": 107,
   "metadata": {
    "collapsed": false
   },
   "outputs": [
    {
     "name": "stdout",
     "output_type": "stream",
     "text": [
      "Needs my merlot\n",
      "Needs my cheddar too\n",
      "And all of these too  ('steak', 'popcorn', 'jerky')\n"
     ]
    }
   ],
   "source": [
    "print_args('merlot', 'cheddar', 'steak', 'popcorn', 'jerky')"
   ]
  },
  {
   "cell_type": "code",
   "execution_count": 109,
   "metadata": {
    "collapsed": false
   },
   "outputs": [],
   "source": [
    "# kwargs changes to dictionary\n",
    "def print_kwargs(**kwargs):\n",
    "    print('Keyword arguments:', kwargs)\n"
   ]
  },
  {
   "cell_type": "code",
   "execution_count": 110,
   "metadata": {
    "collapsed": false
   },
   "outputs": [
    {
     "name": "stdout",
     "output_type": "stream",
     "text": [
      "Keyword arguments: {}\n"
     ]
    }
   ],
   "source": [
    "print_kwargs()"
   ]
  },
  {
   "cell_type": "code",
   "execution_count": 111,
   "metadata": {
    "collapsed": false
   },
   "outputs": [
    {
     "name": "stdout",
     "output_type": "stream",
     "text": [
      "Keyword arguments: {'cheese': 'cheddar', 'wine': 'wine', 'dessert': 'pudding'}\n"
     ]
    }
   ],
   "source": [
    "print_kwargs(wine = 'wine', cheese = 'cheddar', dessert = 'pudding')"
   ]
  },
  {
   "cell_type": "markdown",
   "metadata": {},
   "source": [
    "#### Docstrings\n",
    "Help documentation"
   ]
  },
  {
   "cell_type": "code",
   "execution_count": 112,
   "metadata": {
    "collapsed": true
   },
   "outputs": [],
   "source": [
    "def echo(anything):\n",
    "    'echo returns its input argument'\n",
    "    return anything"
   ]
  },
  {
   "cell_type": "code",
   "execution_count": 113,
   "metadata": {
    "collapsed": false
   },
   "outputs": [
    {
     "name": "stdout",
     "output_type": "stream",
     "text": [
      "Help on function echo in module __main__:\n",
      "\n",
      "echo(anything)\n",
      "    echo returns its input argument\n",
      "\n"
     ]
    }
   ],
   "source": [
    "help(echo)"
   ]
  },
  {
   "cell_type": "code",
   "execution_count": 115,
   "metadata": {
    "collapsed": false
   },
   "outputs": [
    {
     "name": "stdout",
     "output_type": "stream",
     "text": [
      "echo returns its input argument\n"
     ]
    }
   ],
   "source": [
    "print(echo.__doc__)"
   ]
  },
  {
   "cell_type": "markdown",
   "metadata": {},
   "source": [
    "### Everything is an Object and Functions are First-Class Citizens"
   ]
  },
  {
   "cell_type": "code",
   "execution_count": 116,
   "metadata": {
    "collapsed": false
   },
   "outputs": [
    {
     "name": "stdout",
     "output_type": "stream",
     "text": [
      "42\n"
     ]
    }
   ],
   "source": [
    "def answer():\n",
    "    print(42)\n",
    "    \n",
    "answer()"
   ]
  },
  {
   "cell_type": "code",
   "execution_count": 117,
   "metadata": {
    "collapsed": false
   },
   "outputs": [
    {
     "name": "stdout",
     "output_type": "stream",
     "text": [
      "42\n"
     ]
    }
   ],
   "source": [
    "def run_something(func):\n",
    "    func()\n",
    "\n",
    "# answer is called inside the function\n",
    "run_something(answer)"
   ]
  },
  {
   "cell_type": "code",
   "execution_count": 118,
   "metadata": {
    "collapsed": true
   },
   "outputs": [],
   "source": [
    "def add_args(arg1, arg2):\n",
    "    print(arg1 + arg2)"
   ]
  },
  {
   "cell_type": "code",
   "execution_count": 119,
   "metadata": {
    "collapsed": true
   },
   "outputs": [],
   "source": [
    "def run_something_with_args(func, arg1, arg2):\n",
    "    func(arg1, arg2)"
   ]
  },
  {
   "cell_type": "code",
   "execution_count": 123,
   "metadata": {
    "collapsed": false
   },
   "outputs": [
    {
     "name": "stdout",
     "output_type": "stream",
     "text": [
      "14\n",
      "14\n"
     ]
    }
   ],
   "source": [
    "run_something_with_args(add_args, 5, 9)\n",
    "add_args(5, 9)"
   ]
  },
  {
   "cell_type": "code",
   "execution_count": 128,
   "metadata": {
    "collapsed": true
   },
   "outputs": [],
   "source": [
    "# use the same approach above but with the *args and *kwargs techniques\n",
    "def sum_args(*args):\n",
    "    return sum(args)\n",
    "    \n",
    "    \n",
    "def run_with_positional_args(func, *args):\n",
    "    return func(*args)"
   ]
  },
  {
   "cell_type": "code",
   "execution_count": 129,
   "metadata": {
    "collapsed": false
   },
   "outputs": [
    {
     "data": {
      "text/plain": [
       "15"
      ]
     },
     "execution_count": 129,
     "metadata": {},
     "output_type": "execute_result"
    }
   ],
   "source": [
    "run_with_positional_args(sum_args, 1, 2, 3, 4, 5)"
   ]
  },
  {
   "cell_type": "markdown",
   "metadata": {},
   "source": [
    "#### Inner Functions"
   ]
  },
  {
   "cell_type": "code",
   "execution_count": 130,
   "metadata": {
    "collapsed": true
   },
   "outputs": [],
   "source": [
    "def outer(a, b):\n",
    "    def inner(c, d):\n",
    "        return c + d\n",
    "    return inner(a, b)"
   ]
  },
  {
   "cell_type": "code",
   "execution_count": 131,
   "metadata": {
    "collapsed": false
   },
   "outputs": [
    {
     "data": {
      "text/plain": [
       "11"
      ]
     },
     "execution_count": 131,
     "metadata": {},
     "output_type": "execute_result"
    }
   ],
   "source": [
    "outer(4, 7)"
   ]
  },
  {
   "cell_type": "markdown",
   "metadata": {},
   "source": [
    "**Note** <br>\n",
    "An inner function can be useful when performing come complex task more than once within another function, to avoid loops or code duplication."
   ]
  },
  {
   "cell_type": "code",
   "execution_count": 132,
   "metadata": {
    "collapsed": true
   },
   "outputs": [],
   "source": [
    "def knights(saying):\n",
    "    def inner(quote):\n",
    "        return \"We are the knights who say: '%s'\" % quote\n",
    "    return inner(saying)"
   ]
  },
  {
   "cell_type": "code",
   "execution_count": 134,
   "metadata": {
    "collapsed": false
   },
   "outputs": [
    {
     "data": {
      "text/plain": [
       "\"We are the knights who say: 'shit!'\""
      ]
     },
     "execution_count": 134,
     "metadata": {},
     "output_type": "execute_result"
    }
   ],
   "source": [
    "knights('shit!')"
   ]
  },
  {
   "cell_type": "markdown",
   "metadata": {},
   "source": [
    "#### Closures\n",
    "An inner function can act as a *closure*. This is a function that is dynamically generated by another function and can both change and remember the values of variables that were created outside the function"
   ]
  },
  {
   "cell_type": "code",
   "execution_count": 135,
   "metadata": {
    "collapsed": true
   },
   "outputs": [],
   "source": [
    "def knights2(saying):\n",
    "    def inner2():\n",
    "        return \"We are the knights who say: '%s'\" % saying\n",
    "    return inner2"
   ]
  },
  {
   "cell_type": "code",
   "execution_count": 136,
   "metadata": {
    "collapsed": true
   },
   "outputs": [],
   "source": [
    "a = knights2('dog')\n",
    "b = knights2('shit')"
   ]
  },
  {
   "cell_type": "code",
   "execution_count": 137,
   "metadata": {
    "collapsed": false
   },
   "outputs": [
    {
     "data": {
      "text/plain": [
       "function"
      ]
     },
     "execution_count": 137,
     "metadata": {},
     "output_type": "execute_result"
    }
   ],
   "source": [
    "type(a)"
   ]
  },
  {
   "cell_type": "code",
   "execution_count": 138,
   "metadata": {
    "collapsed": false
   },
   "outputs": [
    {
     "data": {
      "text/plain": [
       "function"
      ]
     },
     "execution_count": 138,
     "metadata": {},
     "output_type": "execute_result"
    }
   ],
   "source": [
    "type(b)"
   ]
  },
  {
   "cell_type": "code",
   "execution_count": 139,
   "metadata": {
    "collapsed": false
   },
   "outputs": [
    {
     "data": {
      "text/plain": [
       "<function __main__.knights2.<locals>.inner2>"
      ]
     },
     "execution_count": 139,
     "metadata": {},
     "output_type": "execute_result"
    }
   ],
   "source": [
    "a"
   ]
  },
  {
   "cell_type": "code",
   "execution_count": 140,
   "metadata": {
    "collapsed": false
   },
   "outputs": [
    {
     "data": {
      "text/plain": [
       "<function __main__.knights2.<locals>.inner2>"
      ]
     },
     "execution_count": 140,
     "metadata": {},
     "output_type": "execute_result"
    }
   ],
   "source": [
    "b"
   ]
  },
  {
   "cell_type": "code",
   "execution_count": 142,
   "metadata": {
    "collapsed": false
   },
   "outputs": [
    {
     "data": {
      "text/plain": [
       "\"We are the knights who say: 'dog'\""
      ]
     },
     "execution_count": 142,
     "metadata": {},
     "output_type": "execute_result"
    }
   ],
   "source": [
    "a()"
   ]
  },
  {
   "cell_type": "code",
   "execution_count": 144,
   "metadata": {
    "collapsed": false
   },
   "outputs": [
    {
     "data": {
      "text/plain": [
       "\"We are the knights who say: 'shit'\""
      ]
     },
     "execution_count": 144,
     "metadata": {},
     "output_type": "execute_result"
    }
   ],
   "source": [
    "b()"
   ]
  },
  {
   "cell_type": "markdown",
   "metadata": {},
   "source": [
    "#### Anonymous Functions: the lambda() Function\n",
    "In Python, a *lambda function* is an anonymous function expressed as a single statement. You can use it instead of a normal tiny function."
   ]
  },
  {
   "cell_type": "code",
   "execution_count": 145,
   "metadata": {
    "collapsed": true
   },
   "outputs": [],
   "source": [
    "def edit_story(words, func):\n",
    "    for word in words:\n",
    "        print(func(word))\n",
    "        \n",
    "def enliven(word):\n",
    "    return word.capitalize() + '!'"
   ]
  },
  {
   "cell_type": "code",
   "execution_count": 147,
   "metadata": {
    "collapsed": false
   },
   "outputs": [
    {
     "name": "stdout",
     "output_type": "stream",
     "text": [
      "Thud!\n",
      "Meow!\n",
      "Thud!\n",
      "Hiss!\n"
     ]
    }
   ],
   "source": [
    "# define string list and call edit story\n",
    "stairs = ['thud', 'meow', 'thud', 'hiss'] # string list\n",
    "edit_story(stairs, enliven)"
   ]
  },
  {
   "cell_type": "markdown",
   "metadata": {},
   "source": [
    "Now do the same thing using lambda"
   ]
  },
  {
   "cell_type": "code",
   "execution_count": 148,
   "metadata": {
    "collapsed": false
   },
   "outputs": [
    {
     "name": "stdout",
     "output_type": "stream",
     "text": [
      "Thud!\n",
      "Meow!\n",
      "Thud!\n",
      "Hiss!\n"
     ]
    }
   ],
   "source": [
    "edit_story(stairs, lambda word: word.capitalize() + '!')"
   ]
  },
  {
   "cell_type": "markdown",
   "metadata": {},
   "source": [
    "### Generator\n",
    "a *generator* is a Python sequence creation object. With it, you can iterate through potentially huge sequences without creating and storing the entire sequence in memory at once. Generators are often the source of data for iterators. If you recall, we already used one of them, `range()`, in earlier code examples to generate a series of integers. In Python 2, `range()` returns a list, which limits it to fit in memory. Python 2 also has the generator `xrange()`, which became the normal `range()` in Python 3. This example adds all the integers from 1 to 100."
   ]
  },
  {
   "cell_type": "code",
   "execution_count": 149,
   "metadata": {
    "collapsed": false
   },
   "outputs": [
    {
     "data": {
      "text/plain": [
       "5050"
      ]
     },
     "execution_count": 149,
     "metadata": {},
     "output_type": "execute_result"
    }
   ],
   "source": [
    "# sum integers from 1 to 100\n",
    "sum(range(1, 101))"
   ]
  },
  {
   "cell_type": "markdown",
   "metadata": {},
   "source": [
    "Generator Function"
   ]
  },
  {
   "cell_type": "code",
   "execution_count": 150,
   "metadata": {
    "collapsed": true
   },
   "outputs": [],
   "source": [
    "# user-defined range()\n",
    "def my_range(first = 0, last = 10, step = 1):\n",
    "    number = first\n",
    "    while number < last:\n",
    "        yield number\n",
    "        number += step"
   ]
  },
  {
   "cell_type": "code",
   "execution_count": 151,
   "metadata": {
    "collapsed": false
   },
   "outputs": [
    {
     "data": {
      "text/plain": [
       "<function __main__.my_range>"
      ]
     },
     "execution_count": 151,
     "metadata": {},
     "output_type": "execute_result"
    }
   ],
   "source": [
    "# check to see if my_range() is a normal function\n",
    "my_range"
   ]
  },
  {
   "cell_type": "code",
   "execution_count": 152,
   "metadata": {
    "collapsed": true
   },
   "outputs": [],
   "source": [
    "ranger = my_range(1, 5)"
   ]
  },
  {
   "cell_type": "code",
   "execution_count": 153,
   "metadata": {
    "collapsed": false
   },
   "outputs": [
    {
     "data": {
      "text/plain": [
       "<generator object my_range at 0x7fd75881b150>"
      ]
     },
     "execution_count": 153,
     "metadata": {},
     "output_type": "execute_result"
    }
   ],
   "source": [
    "# So, what is ranger? A generator\n",
    "ranger"
   ]
  },
  {
   "cell_type": "code",
   "execution_count": 154,
   "metadata": {
    "collapsed": false
   },
   "outputs": [
    {
     "name": "stdout",
     "output_type": "stream",
     "text": [
      "1\n",
      "2\n",
      "3\n",
      "4\n"
     ]
    }
   ],
   "source": [
    "# iterate over generator object (ranger)\n",
    "for x in ranger:\n",
    "    print(x)"
   ]
  },
  {
   "cell_type": "code",
   "execution_count": 157,
   "metadata": {
    "collapsed": false
   },
   "outputs": [
    {
     "data": {
      "text/plain": [
       "[1, 2, 3, 4, 5]"
      ]
     },
     "execution_count": 157,
     "metadata": {},
     "output_type": "execute_result"
    }
   ],
   "source": [
    "list(my_range(1, 6))"
   ]
  },
  {
   "cell_type": "markdown",
   "metadata": {},
   "source": [
    "### Decorator\n",
    "When you want modify an existing function without changing its source code. A common example is adding a debugging statement to see what arguments were passed in.<br>\n",
    "A *decorator* is a function that takes one function as input and returns another function"
   ]
  },
  {
   "cell_type": "code",
   "execution_count": 159,
   "metadata": {
    "collapsed": true
   },
   "outputs": [],
   "source": [
    "def document_it(func):\n",
    "    def new_function(*args, **kwargs):\n",
    "        print('Running function:', func.__name__)\n",
    "        print('Positional Arguments:', args)\n",
    "        print('Keyword Arguments:', kwargs)\n",
    "        result = func(*args, **kwargs)\n",
    "        print('Result:', result)\n",
    "        return result\n",
    "    return new_function"
   ]
  },
  {
   "cell_type": "markdown",
   "metadata": {},
   "source": [
    "So, how does this work? Let's use an example to illustrate."
   ]
  },
  {
   "cell_type": "code",
   "execution_count": 160,
   "metadata": {
    "collapsed": true
   },
   "outputs": [],
   "source": [
    "def add_ints(a, b):\n",
    "    return a + b"
   ]
  },
  {
   "cell_type": "code",
   "execution_count": 161,
   "metadata": {
    "collapsed": false
   },
   "outputs": [
    {
     "data": {
      "text/plain": [
       "8"
      ]
     },
     "execution_count": 161,
     "metadata": {},
     "output_type": "execute_result"
    }
   ],
   "source": [
    "add_ints(3, 5)"
   ]
  },
  {
   "cell_type": "code",
   "execution_count": 162,
   "metadata": {
    "collapsed": true
   },
   "outputs": [],
   "source": [
    "cooler_add_ints = document_it(add_ints) # manual decorator"
   ]
  },
  {
   "cell_type": "code",
   "execution_count": 163,
   "metadata": {
    "collapsed": false
   },
   "outputs": [
    {
     "name": "stdout",
     "output_type": "stream",
     "text": [
      "Running function: add_ints\n",
      "Positional Arguments: (3, 5)\n",
      "Keyword Arguments: {}\n",
      "Result: 8\n"
     ]
    },
    {
     "data": {
      "text/plain": [
       "8"
      ]
     },
     "execution_count": 163,
     "metadata": {},
     "output_type": "execute_result"
    }
   ],
   "source": [
    "cooler_add_ints(3, 5)"
   ]
  },
  {
   "cell_type": "markdown",
   "metadata": {},
   "source": [
    "Alternatively, we can use the `@` symbol instead of manually calling the decorator"
   ]
  },
  {
   "cell_type": "code",
   "execution_count": 165,
   "metadata": {
    "collapsed": false
   },
   "outputs": [],
   "source": [
    "@document_it\n",
    "def add_ints(a,  b):\n",
    "    return a + b"
   ]
  },
  {
   "cell_type": "code",
   "execution_count": 166,
   "metadata": {
    "collapsed": false
   },
   "outputs": [
    {
     "name": "stdout",
     "output_type": "stream",
     "text": [
      "Running function: add_ints\n",
      "Positional Arguments: (4, 6)\n",
      "Keyword Arguments: {}\n",
      "Result: 10\n"
     ]
    },
    {
     "data": {
      "text/plain": [
       "10"
      ]
     },
     "execution_count": 166,
     "metadata": {},
     "output_type": "execute_result"
    }
   ],
   "source": [
    "add_ints(4, 6)"
   ]
  },
  {
   "cell_type": "code",
   "execution_count": 167,
   "metadata": {
    "collapsed": true
   },
   "outputs": [],
   "source": [
    "# new decorator\n",
    "def square_it(func):\n",
    "    def new_function(*args, **kwargs):\n",
    "        result = func(*args, **kwargs)\n",
    "        return result * result\n",
    "    return new_function"
   ]
  },
  {
   "cell_type": "code",
   "execution_count": 168,
   "metadata": {
    "collapsed": true
   },
   "outputs": [],
   "source": [
    "# use more than one decorator\n",
    "@document_it\n",
    "@square_it\n",
    "def add_ints(a,  b):\n",
    "    return a + b"
   ]
  },
  {
   "cell_type": "code",
   "execution_count": 169,
   "metadata": {
    "collapsed": false
   },
   "outputs": [
    {
     "name": "stdout",
     "output_type": "stream",
     "text": [
      "Running function: new_function\n",
      "Positional Arguments: (3, 8)\n",
      "Keyword Arguments: {}\n",
      "Result: 121\n"
     ]
    },
    {
     "data": {
      "text/plain": [
       "121"
      ]
     },
     "execution_count": 169,
     "metadata": {},
     "output_type": "execute_result"
    }
   ],
   "source": [
    "add_ints(3, 8)"
   ]
  },
  {
   "cell_type": "code",
   "execution_count": 170,
   "metadata": {
    "collapsed": true
   },
   "outputs": [],
   "source": [
    "@square_it\n",
    "@document_it\n",
    "def add_ints(a,  b):\n",
    "    return a + b"
   ]
  },
  {
   "cell_type": "code",
   "execution_count": 171,
   "metadata": {
    "collapsed": false
   },
   "outputs": [
    {
     "name": "stdout",
     "output_type": "stream",
     "text": [
      "Running function: add_ints\n",
      "Positional Arguments: (3, 8)\n",
      "Keyword Arguments: {}\n",
      "Result: 11\n"
     ]
    },
    {
     "data": {
      "text/plain": [
       "121"
      ]
     },
     "execution_count": 171,
     "metadata": {},
     "output_type": "execute_result"
    }
   ],
   "source": [
    "add_ints(3, 8)"
   ]
  },
  {
   "cell_type": "markdown",
   "metadata": {},
   "source": [
    "### Namespaces and Scope\n",
    "A name can refer to different things, depending on where it's used. Python programs have various *namespaces* -- sections within which a particular name is unique and unrelated to the same name in other namespaces. <br> <br>\n",
    "Each function defines its own namespace. If you define a variable called `x` in a main program and another variable called `x` in a function, they refer to different things. But the walls can be breached: if you need to, you can access names in other namespaces in various ways. <br><br>\n",
    "The main part of a program defines the *global* namespace; thus, the variables in that namespace are *global variables*."
   ]
  },
  {
   "cell_type": "code",
   "execution_count": 172,
   "metadata": {
    "collapsed": true
   },
   "outputs": [],
   "source": [
    "# get value of global variable from within function\n",
    "animal = 'fruitbat'\n",
    "def print_global():\n",
    "    print('inside print_global:', animal)"
   ]
  },
  {
   "cell_type": "code",
   "execution_count": 173,
   "metadata": {
    "collapsed": false
   },
   "outputs": [
    {
     "name": "stdout",
     "output_type": "stream",
     "text": [
      "inside print_global: fruitbat\n",
      "at the top level: fruitbat\n"
     ]
    }
   ],
   "source": [
    "print_global()\n",
    "print('at the top level:', animal)"
   ]
  },
  {
   "cell_type": "code",
   "execution_count": 174,
   "metadata": {
    "collapsed": true
   },
   "outputs": [],
   "source": [
    "# can you change the value of a global variable inside a function? Not by default\n",
    "def change_and_print_global():\n",
    "    print('inside print_global:', animal)\n",
    "    animal = 'wombat'\n",
    "    print('after the change:', animal)"
   ]
  },
  {
   "cell_type": "code",
   "execution_count": 175,
   "metadata": {
    "collapsed": false
   },
   "outputs": [
    {
     "ename": "UnboundLocalError",
     "evalue": "local variable 'animal' referenced before assignment",
     "output_type": "error",
     "traceback": [
      "\u001b[1;31m---------------------------------------------------------------------------\u001b[0m",
      "\u001b[1;31mUnboundLocalError\u001b[0m                         Traceback (most recent call last)",
      "\u001b[1;32m<ipython-input-175-3951755be21b>\u001b[0m in \u001b[0;36m<module>\u001b[1;34m()\u001b[0m\n\u001b[1;32m----> 1\u001b[1;33m \u001b[0mchange_and_print_global\u001b[0m\u001b[1;33m(\u001b[0m\u001b[1;33m)\u001b[0m\u001b[1;33m\u001b[0m\u001b[0m\n\u001b[0m",
      "\u001b[1;32m<ipython-input-174-96452bac59c5>\u001b[0m in \u001b[0;36mchange_and_print_global\u001b[1;34m()\u001b[0m\n\u001b[0;32m      1\u001b[0m \u001b[1;31m# can you change the value of a global variable inside a function? Not by default\u001b[0m\u001b[1;33m\u001b[0m\u001b[1;33m\u001b[0m\u001b[0m\n\u001b[0;32m      2\u001b[0m \u001b[1;32mdef\u001b[0m \u001b[0mchange_and_print_global\u001b[0m\u001b[1;33m(\u001b[0m\u001b[1;33m)\u001b[0m\u001b[1;33m:\u001b[0m\u001b[1;33m\u001b[0m\u001b[0m\n\u001b[1;32m----> 3\u001b[1;33m     \u001b[0mprint\u001b[0m\u001b[1;33m(\u001b[0m\u001b[1;34m'inside print_global:'\u001b[0m\u001b[1;33m,\u001b[0m \u001b[0manimal\u001b[0m\u001b[1;33m)\u001b[0m\u001b[1;33m\u001b[0m\u001b[0m\n\u001b[0m\u001b[0;32m      4\u001b[0m     \u001b[0manimal\u001b[0m \u001b[1;33m=\u001b[0m \u001b[1;34m'wombat'\u001b[0m\u001b[1;33m\u001b[0m\u001b[0m\n\u001b[0;32m      5\u001b[0m     \u001b[0mprint\u001b[0m\u001b[1;33m(\u001b[0m\u001b[1;34m'after the change:'\u001b[0m\u001b[1;33m,\u001b[0m \u001b[0manimal\u001b[0m\u001b[1;33m)\u001b[0m\u001b[1;33m\u001b[0m\u001b[0m\n",
      "\u001b[1;31mUnboundLocalError\u001b[0m: local variable 'animal' referenced before assignment"
     ]
    }
   ],
   "source": [
    "change_and_print_global()"
   ]
  },
  {
   "cell_type": "markdown",
   "metadata": {},
   "source": [
    "If you *just* change it, it changes local variable of the same name, but this variable only lives inside the function"
   ]
  },
  {
   "cell_type": "code",
   "execution_count": 176,
   "metadata": {
    "collapsed": true
   },
   "outputs": [],
   "source": [
    "def change_local():\n",
    "    animal = 'wombat'\n",
    "    print('inside change_local:', animal, id(animal))"
   ]
  },
  {
   "cell_type": "code",
   "execution_count": 178,
   "metadata": {
    "collapsed": false
   },
   "outputs": [
    {
     "name": "stdout",
     "output_type": "stream",
     "text": [
      "inside change_local: wombat 140562879441136\n"
     ]
    },
    {
     "data": {
      "text/plain": [
       "140562944493808"
      ]
     },
     "execution_count": 178,
     "metadata": {},
     "output_type": "execute_result"
    }
   ],
   "source": [
    "# we see that the id of the global variable and local variable are different ...\n",
    "# ... thus referring to different pieces of information\n",
    "change_local()\n",
    "id(animal)"
   ]
  },
  {
   "cell_type": "markdown",
   "metadata": {},
   "source": [
    "If you want to access the global variable use the **global** keyword."
   ]
  },
  {
   "cell_type": "code",
   "execution_count": 183,
   "metadata": {
    "collapsed": false
   },
   "outputs": [],
   "source": [
    "animal = 'fruitbat'\n",
    "def change_and_print_global():\n",
    "    global animal\n",
    "    animal = 'wombat'\n",
    "    print('inside change_and_print_global:', animal)"
   ]
  },
  {
   "cell_type": "code",
   "execution_count": 184,
   "metadata": {
    "collapsed": false
   },
   "outputs": [
    {
     "name": "stdout",
     "output_type": "stream",
     "text": [
      "inside change_and_print_global: wombat\n"
     ]
    },
    {
     "data": {
      "text/plain": [
       "'wombat'"
      ]
     },
     "execution_count": 184,
     "metadata": {},
     "output_type": "execute_result"
    }
   ],
   "source": [
    "change_and_print_global()\n",
    "animal"
   ]
  },
  {
   "cell_type": "markdown",
   "metadata": {},
   "source": [
    "* `locals()` returns a dictionary of the contents of the local namespace.\n",
    "* `globals()` returns a dictionary of the contents of the global namespace"
   ]
  },
  {
   "cell_type": "markdown",
   "metadata": {},
   "source": [
    "If you don't say **global** within a function, Python uses the local namespace and the variable is local. It goes away after the function completes."
   ]
  },
  {
   "cell_type": "code",
   "execution_count": 185,
   "metadata": {
    "collapsed": true
   },
   "outputs": [],
   "source": [
    "animal = 'fruitbat'\n",
    "def change_local():\n",
    "    animal = 'wombat' # local variable\n",
    "    print('locals:', locals())"
   ]
  },
  {
   "cell_type": "code",
   "execution_count": 187,
   "metadata": {
    "collapsed": false
   },
   "outputs": [
    {
     "name": "stdout",
     "output_type": "stream",
     "text": [
      "fruitbat\n",
      "locals: {'animal': 'wombat'}\n"
     ]
    }
   ],
   "source": [
    "print(animal)\n",
    "change_local()"
   ]
  },
  {
   "cell_type": "code",
   "execution_count": 188,
   "metadata": {
    "collapsed": false,
    "scrolled": true
   },
   "outputs": [
    {
     "name": "stdout",
     "output_type": "stream",
     "text": [
      "globals: {'_i137': 'type(a)', '_166': 10, 'position': 3, 'enliven': <function enliven at 0x7fd758867840>, '_i102': \"# gather positional arguments coupled with required arguments\\ndef print_args(wine, cheese, *args):\\n    print('Needs my ', wine)\\n    print('Nees my ', cheese, ' too')\\n    print('And all of these too ', args)\", '__builtin__': <module 'builtins' (built-in)>, '_i54': 'for x in set(word):\\n    print(word.count(x))', 'quit': <IPython.core.autocall.ZMQExitAutocall object at 0x7fd75c5ba358>, '_i96': \"# gather positional arguments coupled with required arguments\\ndef print_args(wine, cheese, *args):\\n    print('Needs my ', wine)\\n    print('Nees my ', cheese, ' too')\\n    print('And all of these too ', args)\", '_i182': 'change_and_print_global()\\nanimal', '_i67': 'number_thing = (number for number in range(1, 6))\\ntype(number_thing)', 'Out': {129: 15, 131: 11, 133: \"We are the knights who say: 'shit!'\", 134: \"We are the knights who say: 'shit!'\", 184: 'wombat', 137: <class 'function'>, 138: <class 'function'>, 139: <function knights2.<locals>.inner2 at 0x7fd75885cea0>, 140: <function knights2.<locals>.inner2 at 0x7fd75885cbf8>, 141: \"We are the knights who say: 'dog'\", 142: \"We are the knights who say: 'dog'\", 143: \"We are the knights who say: 'shit'\", 144: \"We are the knights who say: 'shit'\", 149: 5050, 151: <function my_range at 0x7fd7588317b8>, 25: [('Monday', 'Lundi'), ('Tuesday', 'Mardi'), ('Wednesday', 'Mercredi')], 26: {'Wednesday': 'Mercredi', 'Monday': 'Lundi', 'Tuesday': 'Mardi'}, 155: <generator object my_range at 0x7fd7587bc888>, 157: [1, 2, 3, 4, 5], 32: [0, 2, 4, 6, 8, 10], 33: [1, 2, 3, 4, 5], 34: [1, 3, 5], 35: [1, 3, 5], 166: 10, 39: [(1, 1), (1, 2), (2, 1), (2, 2), (3, 1), (3, 2)], 40: {'l': 1, 't': 2, 'e': 2, 's': 1, 'r': 1}, 41: {'cat': 1}, 42: {'l': 1, 't': 2, 'e': 2, 's': 1, 'r': 1}, 43: {'l', 't', 'e', 's', 'r'}, 44: 1, 46: {'l': 2, 't': 2, 'e': 2, 's': 2, 'r': 2}, 47: {'l': 1, 't': 2, 'e': 2, 's': 1, 'r': 1}, 49: {'l': 1, 't': 2, 'e': 2, 's': 1, 'r': 1}, 178: 140562944493808, 182: 'wombat', 55: 2, 56: {'l': 1, 't': 2, 'e': 2, 's': 1, 'r': 1}, 57: 2, 58: {1, 4}, 59: 1, 60: 2, 61: 0, 62: 1, 63: <class 'generator'>, 66: [], 67: <class 'generator'>, 69: [], 70: <class 'generator'>, 71: [1, 2, 3, 4, 5], 72: [], 177: 140562944493808, 78: 'yolo yolo', 80: \"It's a tomato.\", 81: \"I don't know what it is, but only bees can see it.\", 163: 8, 88: {'entree': 'chicken', 'wine': 'merlot', 'dessert': 'cookies'}, 90: {'entree': 'beef', 'wine': 'chardonnay', 'dessert': 'cake'}, 92: {'entree': 'shrimp', 'wine': 'chardonnay', 'dessert': 'pudding'}, 161: 8, 171: 121, 169: 121, 153: <generator object my_range at 0x7fd75881b150>}, 'x': 4, '_i60': '2 % 3', '_49': {'l': 1, 't': 2, 'e': 2, 's': 1, 'r': 1}, '_i180': \"animal = 'fruitbat'\\ndef change_and_print_global():\\n    global animal\\n    animal = 'wombat'\\n    print('inside change_and_print_global:', animal)\", '_i105': \"print_args('merlot', 'cheddar', 'steak', 'popcorn', 'jerky')\", 'cols': range(1, 3), '_42': {'l': 1, 't': 2, 'e': 2, 's': 1, 'r': 1}, '_i7': 'while True:\\n    value = input(\"Integer, please [q to quit]: \")\\n    if value == \\'q\\':\\n        break\\n    number = int(value)\\n    if number % 2 == 0:\\n        continue\\n    else:\\n        print(number, \"squared is\", number * number)', '_i78': \"echo('yolo')\", '_i62': '4 % 3', '_i57': \"'caat'.count('a')\", '_i91': \"# default value\\ndef menu(wine, entree, dessert = 'pudding'):\\n    return {'wine': wine, 'entree': entree, 'dessert': dessert}\", 'run_with_positional_args': <function run_with_positional_args at 0x7fd75885c7b8>, '_137': <class 'function'>, '_i181': 'change_and_print_global()', '_i157': 'list(my_range(1, 6))', '_i164': '@document_it\\ndef add_ints(a,  b)', 'run_something': <function run_something at 0x7fd758867e18>, '_i123': 'run_something_with_args(add_args, 5, 9)\\nadd_args(5, 9)', '_i53': 'for x in word:\\n    print(word.count(x))', '_63': <class 'generator'>, '_139': <function knights2.<locals>.inner2 at 0x7fd75885cea0>, '_44': 1, '_i33': 'number_list = [number for number in range(1, 6)]\\nnumber_list', '_i51': 'for x in word:\\n    print(x)\\n    word.count(x)', '_i86': '# what happens if when nothing is returned again\\nprint(do_nothing())', 'cooler_add_ints': <function document_it.<locals>.new_function at 0x7fd758867048>, '_i160': 'def add_ints(a, b):\\n    return a + b', '_i84': 'def commentary(color):\\n    if color == \\'red\\':\\n        return \"It\\'s a tomato.\"\\n    elif color == \\'green\\':\\n        return \"It\\'s a green pepper.\"\\n    elif color == \\'bee purple\\':\\n        return \"I don\\'t know what it is, but only bees can see it.\"\\n    else:\\n        return \"I\\'ve never heard of the color \" + color + \".\"', '_144': \"We are the knights who say: 'shit'\", '_i99': \"# gather positional arguments coupled with required arguments\\ndef print_args(wine, cheese, *args):\\n    print('Needs my ', wine)\\n    print('Nees my ', cheese, ' too')\\n    print('And all of these too ', *args)\", '_i168': '# use more than one decorator\\n@document_it\\n@square_it\\ndef add_ints(a,  b):\\n    return a + b', '_32': [0, 2, 4, 6, 8, 10], '_41': {'cat': 1}, '_26': {'Wednesday': 'Mercredi', 'Monday': 'Lundi', 'Tuesday': 'Mardi'}, '_i40': \"word = 'letters'\\nletter_counts = {letter: word.count(letter) for letter in word}\\nletter_counts\", 'add_args': <function add_args at 0x7fd758867ea0>, 'ranger': <generator object my_range at 0x7fd75881b150>, '_i167': '# new decorator\\ndef square_it(func):\\n    def new_function(*args, **kwargs):\\n        result = func(*args, **kwargs)\\n        return result * result\\n    return new_function', '_i': 'print(animal)\\nchange_local()', 'fruit': 'peach', '_33': [1, 2, 3, 4, 5], 'make_a_sound': <function make_a_sound at 0x7fd75885c840>, 'desserts': ['tiramasu', 'ice cream', 'pie', 'pudding'], '_140': <function knights2.<locals>.inner2 at 0x7fd75885cbf8>, '_71': [1, 2, 3, 4, 5], '_i124': '# use the same approach above but with the *args and *kwargs techniques\\ndef sum_args(*args):\\n    sum(args)\\n    \\n    \\ndef run_with_positional_args(func, *args):\\n    return func(*args)', '_i183': \"animal = 'fruitbat'\\ndef change_and_print_global():\\n    global animal\\n    animal = 'wombat'\\n    print('inside change_and_print_global:', animal)\", '_i140': 'b', '_i172': \"# get value of global variable from within function\\nanimal = 'fruitbat'\\ndef print_global():\\n    print('inside print_global:', animal)\", '_i46': \"word = 'letters'\\nletter_counts = {alpha: word.count(letter) for alpha in word}\\nletter_counts\", '_i64': 'for number in number_thing:\\n    print(number)', '_i94': 'print_args()', '_i150': '# user-defined range()\\ndef my_range(first = 0, last = 10, step = 1):\\n    number = first\\n    while number < last:\\n        yield number\\n        number += step', '_i5': 'while True:\\n    stuff = input(\"String to capitalize [type q to quit]: \")\\n    if stuff == \"q\":\\n        break\\n    print(stuff.capitalize())\\n    print(stuff.upper())', '_40': {'l': 1, 't': 2, 'e': 2, 's': 1, 'r': 1}, 'a': <function knights2.<locals>.inner2 at 0x7fd75885cea0>, '_i127': 'run_with_positional_args(sum_args, 1, 2, 3, 4, 5)', 'print_args': <function print_args at 0x7fd758867ae8>, '_58': {1, 4}, '_i9': \"numbers = [1, 3, 5, 6]\\nposition = 0\\nwhile position < len(numbers):\\n    number = numbers[position]\\n    if number % 2 == 0:\\n        print('Found even number', number)\\n        break\\n    position += 1\\nelse: # break not called\\n    print('No even number found')\\n    \", '_i44': 'word.count(word)', 'run_something_with_args': <function run_something_with_args at 0x7fd7588678c8>, '_47': {'l': 1, 't': 2, 'e': 2, 's': 1, 'r': 1}, '_80': \"It's a tomato.\", '_62': 1, 'row': 3, '_iii': \"animal = 'fruitbat'\\ndef change_local():\\n    animal = 'wombat' # local variable\\n    print('locals:', locals())\", '_i26': '# dict\\ndict( zip(english, french))', '_i185': \"animal = 'fruitbat'\\ndef change_local():\\n    animal = 'wombat' # local variable\\n    print('locals:', locals())\", 'change_and_print_global': <function change_and_print_global at 0x7fd758867510>, 'stairs': ['thud', 'meow', 'thud', 'hiss'], '_131': 11, '_92': {'entree': 'shrimp', 'wine': 'chardonnay', 'dessert': 'pudding'}, '_i107': \"print_args('merlot', 'cheddar', 'steak', 'popcorn', 'jerky')\", '_i106': \"# gather positional arguments coupled with required arguments\\ndef print_args(wine, cheese, *args):\\n    print('Needs my', wine)\\n    print('Needs my', cheese, 'too')\\n    print('And all of these too ', args)\", '_i48': \"word = 'letters'\\nletter_counts = {alphas: word.count(alpha) for alpha in word}\\nletter_counts\", '_i114': 'print(echo._doc_)', '_141': \"We are the knights who say: 'dog'\", 'letter_counts': {'l': 1, 't': 2, 'e': 2, 's': 1, 'r': 1}, 'day': 'Wednesday', '_oh': {129: 15, 131: 11, 133: \"We are the knights who say: 'shit!'\", 134: \"We are the knights who say: 'shit!'\", 184: 'wombat', 137: <class 'function'>, 138: <class 'function'>, 139: <function knights2.<locals>.inner2 at 0x7fd75885cea0>, 140: <function knights2.<locals>.inner2 at 0x7fd75885cbf8>, 141: \"We are the knights who say: 'dog'\", 142: \"We are the knights who say: 'dog'\", 143: \"We are the knights who say: 'shit'\", 144: \"We are the knights who say: 'shit'\", 149: 5050, 151: <function my_range at 0x7fd7588317b8>, 25: [('Monday', 'Lundi'), ('Tuesday', 'Mardi'), ('Wednesday', 'Mercredi')], 26: {'Wednesday': 'Mercredi', 'Monday': 'Lundi', 'Tuesday': 'Mardi'}, 155: <generator object my_range at 0x7fd7587bc888>, 157: [1, 2, 3, 4, 5], 32: [0, 2, 4, 6, 8, 10], 33: [1, 2, 3, 4, 5], 34: [1, 3, 5], 35: [1, 3, 5], 166: 10, 39: [(1, 1), (1, 2), (2, 1), (2, 2), (3, 1), (3, 2)], 40: {'l': 1, 't': 2, 'e': 2, 's': 1, 'r': 1}, 41: {'cat': 1}, 42: {'l': 1, 't': 2, 'e': 2, 's': 1, 'r': 1}, 43: {'l', 't', 'e', 's', 'r'}, 44: 1, 46: {'l': 2, 't': 2, 'e': 2, 's': 2, 'r': 2}, 47: {'l': 1, 't': 2, 'e': 2, 's': 1, 'r': 1}, 49: {'l': 1, 't': 2, 'e': 2, 's': 1, 'r': 1}, 178: 140562944493808, 182: 'wombat', 55: 2, 56: {'l': 1, 't': 2, 'e': 2, 's': 1, 'r': 1}, 57: 2, 58: {1, 4}, 59: 1, 60: 2, 61: 0, 62: 1, 63: <class 'generator'>, 66: [], 67: <class 'generator'>, 69: [], 70: <class 'generator'>, 71: [1, 2, 3, 4, 5], 72: [], 177: 140562944493808, 78: 'yolo yolo', 80: \"It's a tomato.\", 81: \"I don't know what it is, but only bees can see it.\", 163: 8, 88: {'entree': 'chicken', 'wine': 'merlot', 'dessert': 'cookies'}, 90: {'entree': 'beef', 'wine': 'chardonnay', 'dessert': 'cake'}, 92: {'entree': 'shrimp', 'wine': 'chardonnay', 'dessert': 'pudding'}, 161: 8, 171: 121, 169: 121, 153: <generator object my_range at 0x7fd75881b150>}, '_i15': \"word = 'cat'\\nfor letter in word:\\n    print(letter)\\n    letters += letter\\n    print(letters)\", '_129': 15, 'try_again': [], '_i81': \"commentary('red')\\ncommentary('green')\\ncommentary('bee purple')\", '_i79': 'def commentary(color):\\n    if color == \\'red\\':\\n        return \"It\\'s a tomato.\"\\n    elif color == \\'green\\':\\n        return \"It\\'s a green pepper.\"\\n    elif color == \\'bee purple\\':\\n        return \"I don\\'t know what it is, but only bees can see it.\"\\n    else:\\n        return \"I\\'ve never heard of the color\" + color + \".\"', 'value': 'lead pipe', 'knights2': <function knights2 at 0x7fd75885c8c8>, '_i75': \"def make_a_sound():\\n    print('Quack')\", '_i166': 'add_ints(4, 6)', 'rabbits': ['flopsy', 'mopsy', 'cottontail', 'peter'], 'number_thing': <generator object <genexpr> at 0x7fd7587f90f8>, '_i149': '# sum integers from 1 to 100\\nsum(range(1, 101))', '_i121': 'run_something_with_args(add_args, 5, 9)\\nprint(add_args(5, 9))', 'menu': <function menu at 0x7fd7588679d8>, '_90': {'entree': 'beef', 'wine': 'chardonnay', 'dessert': 'cake'}, '_161': 8, '_66': [], '_81': \"I don't know what it is, but only bees can see it.\", '_i20': 'for item in accusation.items():\\n    print(item)', '_i29': 'for x in range(2, -1):\\n    print(x)', '_i22': \"cheeses = []\\nfor cheese in cheeses:\\n    print('This shop has some lovely', cheese)\\n    break\\nelse: # break not called\\n    print('It would help if there was some cheese')\", '__doc__': 'Automatically created module for IPython interactive environment', 'count': 6, '_i59': '1 % 3', '_i77': \"def echo(anything):\\n    return anything + ' ' + anything\", 'number': 5, 'exit': <IPython.core.autocall.ZMQExitAutocall object at 0x7fd75c5ba358>, '_i125': '# use the same approach above but with the *args and *kwargs techniques\\ndef sum_args(*args):\\n    sum(args)\\n    \\n    \\ndef run_with_positional_args(func, *args):\\n    return func(*args)', '_i2': 'count = 1\\nwhile count <= 5:\\n    print(count)\\n    count += 1', 'b': <function knights2.<locals>.inner2 at 0x7fd75885cbf8>, 'stuff': 'q', '_i177': 'change_local()\\nid(animal)', '_i37': '# traditional nested loop\\nrows = range(1, 4)\\ncols = range(1, 3)\\nfor row in rows:\\n    for col in cols:\\n        print(row, col)', '_i74': 'do_nothing()', '_72': [], '_133': \"We are the knights who say: 'shit!'\", '_i23': 'days = [\\'Monday\\', \\'Tuesday\\', \\'Wednesday\\']\\nfruits = [\\'banana\\', \\'orange\\', \\'peach\\']\\ndrinks = [\\'coffee\\', \\'tea\\', \\'beer\\']\\ndesserts = [\\'tiramasu\\', \\'ice cream\\', \\'pie\\', \\'pudding\\']\\n\\nfor day, fruit, drink, dessert in zip(days, fruits, drinks, desserts):\\n    print(day, \": drink\", drink, \"- eat\", fruit, \"- enjoy\", dessert)', '_i17': \"accusation = {\\n    'room': 'ballroom',\\n    'weapon': 'lead pipe',\\n    'person': 'Col. Mustard'\\n}\", 'outer': <function outer at 0x7fd758831488>, '_i69': 'number_list = list(number_thing)\\nnumber_list', '_i112': \"def echo(anything):\\n    'echo returns its input argument'\\n    return anything\", 'add_ints': <function square_it.<locals>.new_function at 0x7fd7587c7510>, 'col': 2, 'get_ipython': <bound method InteractiveShell.get_ipython of <ipykernel.zmqshell.ZMQInteractiveShell object at 0x7fd75c590b70>>, '_i41': \"word = 'letters'\\nletter_counts = {letters: word.count(letter) for letter in word}\\nletter_counts\", '_i28': 'for x in range(2, -1, -1):\\n    print(x)', '_i35': '# traditional counterpart to a_list\\na_list = []\\nfor number in range(1, 6):\\n    if number % 2 == 1:\\n        a_list.append(number)\\n        \\na_list', '_177': 140562944493808, 'knights': <function knights at 0x7fd75885cc80>, '_169': 121, '_i184': 'change_and_print_global()\\nanimal', '_i65': 'for num in a_set:\\n    print(num)', '_25': [('Monday', 'Lundi'), ('Tuesday', 'Mardi'), ('Wednesday', 'Mercredi')], 'a_list': [1, 3, 5], '_i136': \"a = knights2('dog')\\nb = knights2('shit')\", '_i66': 'number_list = list(number_thing)\\nnumber_list', 'cell': (3, 2), '_i118': 'def add_args(arg1, arg2):\\n    print(arg1 + arg2)', '_i98': \"# gather positional arguments coupled with required arguments\\ndef print_args(wine, cheese, *args):\\n    print('Needs my ', wine)\\n    print('Nees my ', cheese, ' too')\\n    print('And all of these too ', *args)\", '_i14': \"word = 'cat'\\nfor letter in word:\\n    print(letter)\", '_134': \"We are the knights who say: 'shit!'\", '_88': {'entree': 'chicken', 'wine': 'merlot', 'dessert': 'cookies'}, 'drink': 'beer', 'cells': [(1, 1), (1, 2), (2, 1), (2, 2), (3, 1), (3, 2)], '_i135': 'def knights2(saying):\\n    def inner2():\\n        return \"We are the knights who say: \\'%s\\'\" % saying\\n    return inner2', '_i130': 'def outer(a, b):\\n    def inner(c, d):\\n        return c + d\\n    return inner(a, b)', '_i24': \"english = 'Monday', 'Tuesday', 'Wednesday'\\nfrench = 'Lundi', 'Mardi', 'Mercredi'\", '_i148': \"edit_story(stairs, lambda word: word.capitalize() + '!')\", '__': 'wombat', '_i52': 'for x in word:\\n    word.count(x)', '_i126': 'run_with_positional_args(1, 2, 3, 4, 5)', '_i147': \"# define string list and call edit story\\nstairs = ['thud', 'meow', 'thud', 'hiss'] # string list\\nedit_story(stairs, enliven)\", '_i152': 'ranger = my_range(1, 5)', '_i27': 'for x in range(0 ,3):\\n    print(x)', '_i55': \"for x in set(word):\\n    print(word.count(x))\\n\\nword.count('e')\", 'commentary': <function commentary at 0x7fd75885c598>, '_i108': '# kwargs changes to dictionary\\ndef print_kwargs(**kwargs):', '_i43': 'set(word)', 'drinks': ['coffee', 'tea', 'beer'], '_i47': \"word = 'letters'\\nletter_counts = {alpha: word.count(alpha) for alpha in word}\\nletter_counts\", '_i101': \"print('merlot', 'cheddar', 'steak', 'popcorn', 'jerky')\", '_i156': 'print(my_range(1, 6))', '_182': 'wombat', 'edit_story': <function edit_story at 0x7fd7588670d0>, '_i38': '# nested for in comprehension\\nrows = range(1, 4)\\ncols = range(1, 3)\\ncells = [(row, col) for row in rows for col in cols]\\nfor cell in cells:\\n    print(cell)', '_dh': ['/home/rerwin21/anaconda3/learning_python/introducing_python_book'], '_i103': \"print_args('merlot', 'cheddar', 'steak', 'popcorn', 'jerky')\", '_61': 0, '_i16': \"word = 'cat'\\nletters = ''\\nfor letter in word:\\n    print(letter)\\n    letters += letter\\n    print(letters)\", 'letters': 'cat', 'my_range': <function my_range at 0x7fd7588317b8>, '_i11': \"rabbits = ['flopsy', 'mopsy', 'cottontail', 'peter']\\nfor rabbit in rabbits:\\n    print(rabbit)\", 'word': 'letters', 'dessert': 'pie', '__name__': '__main__', '_155': <generator object my_range at 0x7fd7587bc888>, 'card': 'weapon', '_i141': 'a()', '_i111': \"print_kwargs(wine = 'wine', cheese = 'cheddar', dessert = 'pudding')\", 'print_global': <function print_global at 0x7fd7587c7620>, '_35': [1, 3, 5], '_i163': 'cooler_add_ints(3, 5)', '_i145': \"def edit_story(words, func):\\n    for word in words:\\n        print(func(word))\\n        \\ndef enliven(word):\\n    return word.capitalize() + '!'\", '_i19': 'for value in accusation.values():\\n    print(value)', '_i155': 'my_range(1, 6)', '_151': <function my_range at 0x7fd7588317b8>, '_i10': \"numbers = [1, 3, 5]\\nposition = 0\\nwhile position < len(numbers):\\n    number = numbers[position]\\n    if number % 2 == 0:\\n        print('Found even number', number)\\n        break\\n    position += 1\\nelse: # break not called\\n    print('No even number found')\\n    \", '_i72': 'try_again = list(number_thing)\\ntry_again', '_ih': ['', 'some_list = []\\nif some_list:\\n    print(\"There is something in here\")\\nelse:\\n    print(\"Please add an item to the list\")\\n        ', 'count = 1\\nwhile count <= 5:\\n    print(count)\\n    count += 1', 'while true:\\n    stuff = input(\"String to capitalize [type q to quit]: \")\\n    if stuff == \"q\":\\n        break\\n    print(stuff.capitalize())', 'while True:\\n    stuff = input(\"String to capitalize [type q to quit]: \")\\n    if stuff == \"q\":\\n        break\\n    print(stuff.capitalize())', 'while True:\\n    stuff = input(\"String to capitalize [type q to quit]: \")\\n    if stuff == \"q\":\\n        break\\n    print(stuff.capitalize())\\n    print(stuff.upper())', 'while True:\\n    value = input(\"Integer, please [q to quit]: \")\\n    if value == \\'q\\':\\n        break\\n    number = int(value)\\n    if number % 2 == 0:\\n        continue\\n    print(number, \"squared is\", number * number)', 'while True:\\n    value = input(\"Integer, please [q to quit]: \")\\n    if value == \\'q\\':\\n        break\\n    number = int(value)\\n    if number % 2 == 0:\\n        continue\\n    else:\\n        print(number, \"squared is\", number * number)', \"numbers = [1, 3, 5]\\nposition = 0\\nwhile position < len(numbers):\\n    number = numbers[position]\\n    if number % 2 == 0:\\n        print('Found even number', number)\\n        break\\n    position += 1\\nelse: # break not called\\n    print('No even number found')\\n    \", \"numbers = [1, 3, 5, 6]\\nposition = 0\\nwhile position < len(numbers):\\n    number = numbers[position]\\n    if number % 2 == 0:\\n        print('Found even number', number)\\n        break\\n    position += 1\\nelse: # break not called\\n    print('No even number found')\\n    \", \"numbers = [1, 3, 5]\\nposition = 0\\nwhile position < len(numbers):\\n    number = numbers[position]\\n    if number % 2 == 0:\\n        print('Found even number', number)\\n        break\\n    position += 1\\nelse: # break not called\\n    print('No even number found')\\n    \", \"rabbits = ['flopsy', 'mopsy', 'cottontail', 'peter']\\nfor rabbit in rabbits:\\n    print(rabbit)\", \"rabbits = ['flopsy', 'mopsy', 'cottontail', 'peter']\\nfor rabbit in rabbits:\\n    print(rabbit.capitalize())\", \"word = 'cat'\", \"word = 'cat'\\nfor letter in word:\\n    print(letter)\", \"word = 'cat'\\nfor letter in word:\\n    print(letter)\\n    letters += letter\\n    print(letters)\", \"word = 'cat'\\nletters = ''\\nfor letter in word:\\n    print(letter)\\n    letters += letter\\n    print(letters)\", \"accusation = {\\n    'room': 'ballroom',\\n    'weapon': 'lead pipe',\\n    'person': 'Col. Mustard'\\n}\", 'for card in accusation:\\n    print(card)', 'for value in accusation.values():\\n    print(value)', 'for item in accusation.items():\\n    print(item)', \"for card, value in accusation.items():\\n    print('The value of %s is %s' % (card, value))\", \"cheeses = []\\nfor cheese in cheeses:\\n    print('This shop has some lovely', cheese)\\n    break\\nelse: # break not called\\n    print('It would help if there was some cheese')\", 'days = [\\'Monday\\', \\'Tuesday\\', \\'Wednesday\\']\\nfruits = [\\'banana\\', \\'orange\\', \\'peach\\']\\ndrinks = [\\'coffee\\', \\'tea\\', \\'beer\\']\\ndesserts = [\\'tiramasu\\', \\'ice cream\\', \\'pie\\', \\'pudding\\']\\n\\nfor day, fruit, drink, dessert in zip(days, fruits, drinks, desserts):\\n    print(day, \": drink\", drink, \"- eat\", fruit, \"- enjoy\", dessert)', \"english = 'Monday', 'Tuesday', 'Wednesday'\\nfrench = 'Lundi', 'Mardi', 'Mercredi'\", '# pair two tuples\\nlist(zip(english, french))', '# dict\\ndict( zip(english, french))', 'for x in range(0 ,3):\\n    print(x)', 'for x in range(2, -1, -1):\\n    print(x)', 'for x in range(2, -1):\\n    print(x)', 'for x in range(2, -1, 1):\\n    print(x)', 'for x in range(2, -1, -1):\\n    print(x)', 'list(range(0, 11, 2))', 'number_list = [number for number in range(1, 6)]\\nnumber_list', 'a_list = [number for number in range(1, 6) if number % 2 == 1]\\na_list', '# traditional counterpart to a_list\\na_list = []\\nfor number in range(1, 6):\\n    if number % 2 == 1:\\n        a_list.append(number)\\n        \\na_list', '# traditional nested loop\\nrows = range(1, 4)\\ncols = range(1, 3)\\nfor row in rows:\\n    for col in cols:\\n        print(row, col)', '# traditional nested loop\\nrows = range(1, 4)\\ncols = range(1, 3)\\nfor row in rows:\\n    for col in cols:\\n        print(row, col)', '# nested for in comprehension\\nrows = range(1, 4)\\ncols = range(1, 3)\\ncells = [(row, col) for row in rows for col in cols]\\nfor cell in cells:\\n    print(cell)', '# nested for in comprehension\\nrows = range(1, 4)\\ncols = range(1, 3)\\ncells = [(row, col) for row in rows for col in cols]\\nfor cell in cells:\\n    print(cell)\\n    \\ncells', \"word = 'letters'\\nletter_counts = {letter: word.count(letter) for letter in word}\\nletter_counts\", \"word = 'letters'\\nletter_counts = {letters: word.count(letter) for letter in word}\\nletter_counts\", \"word = 'letters'\\nletter_counts = {letter: word.count(letter) for letter in word}\\nletter_counts\", 'set(word)', 'word.count(word)', \"word = 'letters'\\nletter_counts = {alpha: word.count(letter) for letter in word}\\nletter_counts\", \"word = 'letters'\\nletter_counts = {alpha: word.count(letter) for alpha in word}\\nletter_counts\", \"word = 'letters'\\nletter_counts = {alpha: word.count(alpha) for alpha in word}\\nletter_counts\", \"word = 'letters'\\nletter_counts = {alphas: word.count(alpha) for alpha in word}\\nletter_counts\", \"word = 'letters'\\nletter_counts = {alpha: word.count(alpha) for alpha in word}\\nletter_counts\", 'for x in word:\\n    print(x)', 'for x in word:\\n    print(x)\\n    word.count(x)', 'for x in word:\\n    word.count(x)', 'for x in word:\\n    print(word.count(x))', 'for x in set(word):\\n    print(word.count(x))', \"for x in set(word):\\n    print(word.count(x))\\n\\nword.count('e')\", \"word = 'letters'\\nletter_counts = {alpha: word.count(alpha) for alpha in set(word)}\\nletter_counts\", \"'caat'.count('a')\", 'a_set  = {number for number in range(1, 6) if number % 3 == 1}\\na_set', '1 % 3', '2 % 3', '3 % 3', '4 % 3', 'number_thing = (number for number in range(1, 6))\\ntype(number_thing)', 'for number in number_thing:\\n    print(number)', 'for num in a_set:\\n    print(num)', 'number_list = list(number_thing)\\nnumber_list', 'number_thing = (number for number in range(1, 6))\\ntype(number_thing)', 'for number in number_thing:\\n    print(number)', 'number_list = list(number_thing)\\nnumber_list', 'number_thing = (number for number in range(1, 6))\\ntype(number_thing)', 'number_list = list(number_thing)\\nnumber_list', 'try_again = list(number_thing)\\ntry_again', '# simplest function you could have\\ndef do_nothing():\\n    pass', 'do_nothing()', \"def make_a_sound():\\n    print('Quack')\", 'make_a_sound()', \"def echo(anything):\\n    return anything + ' ' + anything\", \"echo('yolo')\", 'def commentary(color):\\n    if color == \\'red\\':\\n        return \"It\\'s a tomato.\"\\n    elif color == \\'green\\':\\n        return \"It\\'s a green pepper.\"\\n    elif color == \\'bee purple\\':\\n        return \"I don\\'t know what it is, but only bees can see it.\"\\n    else:\\n        return \"I\\'ve never heard of the color\" + color + \".\"', \"commentary('red')\", \"commentary('red')\\ncommentary('green')\\ncommentary('bee purple')\", \"print(commentary('red'))\\nprint(commentary('green'))\\nprint(commentary('bee purple'))\", \"print(commentary('red'))\\nprint(commentary('green'))\\nprint(commentary('bee purple'))\\nprint(commentary('blue'))\", 'def commentary(color):\\n    if color == \\'red\\':\\n        return \"It\\'s a tomato.\"\\n    elif color == \\'green\\':\\n        return \"It\\'s a green pepper.\"\\n    elif color == \\'bee purple\\':\\n        return \"I don\\'t know what it is, but only bees can see it.\"\\n    else:\\n        return \"I\\'ve never heard of the color \" + color + \".\"', \"print(commentary('red'))\\nprint(commentary('green'))\\nprint(commentary('bee purple'))\\nprint(commentary('blue'))\", '# what happens if when nothing is returned again\\nprint(do_nothing())', \"def menu(wine, entree, dessert):\\n    return {'wine': wine, 'entree': entree, 'dessert': dessert}\", \"menu('merlot', 'chicken', 'cookies')\", \"menue(dessert = 'cake', wine = 'chardonnay', entree = 'beef')\", \"menu(dessert = 'cake', wine = 'chardonnay', entree = 'beef')\", \"# default value\\ndef menu(wine, entree, dessert = 'pudding'):\\n    return {'wine': wine, 'entree': entree, 'dessert': dessert}\", \"menu('chardonnay', 'shrimp')\", \"def print_args(*args):\\n    print('Positional argument tuple:', args)\", 'print_args()', \"print_args(3, 2, 1, 'wait', 'hu...?')\", \"# gather positional arguments coupled with required arguments\\ndef print_args(wine, cheese, *args):\\n    print('Needs my ', wine)\\n    print('Nees my ', cheese, ' too')\\n    print('And all of these too ', args)\", \"print('merlot', 'cheddar', 'steak', 'popcorn', 'jerky')\", \"# gather positional arguments coupled with required arguments\\ndef print_args(wine, cheese, *args):\\n    print('Needs my ', wine)\\n    print('Nees my ', cheese, ' too')\\n    print('And all of these too ', *args)\", \"# gather positional arguments coupled with required arguments\\ndef print_args(wine, cheese, *args):\\n    print('Needs my ', wine)\\n    print('Nees my ', cheese, ' too')\\n    print('And all of these too ', *args)\", \"print('merlot', 'cheddar', 'steak', 'popcorn', 'jerky')\", \"print('merlot', 'cheddar', 'steak', 'popcorn', 'jerky')\", \"# gather positional arguments coupled with required arguments\\ndef print_args(wine, cheese, *args):\\n    print('Needs my ', wine)\\n    print('Nees my ', cheese, ' too')\\n    print('And all of these too ', args)\", \"print_args('merlot', 'cheddar', 'steak', 'popcorn', 'jerky')\", \"# gather positional arguments coupled with required arguments\\ndef print_args(wine, cheese, *args):\\n    print('Needs my ', wine)\\n    print('Needs my ', cheese, ' too')\\n    print('And all of these too ', args)\", \"print_args('merlot', 'cheddar', 'steak', 'popcorn', 'jerky')\", \"# gather positional arguments coupled with required arguments\\ndef print_args(wine, cheese, *args):\\n    print('Needs my', wine)\\n    print('Needs my', cheese, 'too')\\n    print('And all of these too ', args)\", \"print_args('merlot', 'cheddar', 'steak', 'popcorn', 'jerky')\", '# kwargs changes to dictionary\\ndef print_kwargs(**kwargs):', \"# kwargs changes to dictionary\\ndef print_kwargs(**kwargs):\\n    print('Keyword arguments:', kwargs)\", 'print_kwargs()', \"print_kwargs(wine = 'wine', cheese = 'cheddar', dessert = 'pudding')\", \"def echo(anything):\\n    'echo returns its input argument'\\n    return anything\", 'help(echo)', 'print(echo._doc_)', 'print(echo.__doc__)', 'def answer():\\n    print(42)\\n    \\nanswer()', 'def run_something(func):\\n    func()\\n    \\nrun_something(answer)', 'def add_args(arg1, arg2):\\n    print(arg1 + arg2)', 'def run_something_with_args(func, arg1, arg2):\\n    func(arg1, arg2)', 'run_something_with_args(add_args, 5, 9)', 'run_something_with_args(add_args, 5, 9)\\nprint(add_args(5, 9))', 'run_something_with_args(add_args, 5, 9)\\nprint(add_args(5, 9))', 'run_something_with_args(add_args, 5, 9)\\nadd_args(5, 9)', '# use the same approach above but with the *args and *kwargs techniques\\ndef sum_args(*args):\\n    sum(args)\\n    \\n    \\ndef run_with_positional_args(func, *args):\\n    return func(*args)', '# use the same approach above but with the *args and *kwargs techniques\\ndef sum_args(*args):\\n    sum(args)\\n    \\n    \\ndef run_with_positional_args(func, *args):\\n    return func(*args)', 'run_with_positional_args(1, 2, 3, 4, 5)', 'run_with_positional_args(sum_args, 1, 2, 3, 4, 5)', '# use the same approach above but with the *args and *kwargs techniques\\ndef sum_args(*args):\\n    return sum(args)\\n    \\n    \\ndef run_with_positional_args(func, *args):\\n    return func(*args)', 'run_with_positional_args(sum_args, 1, 2, 3, 4, 5)', 'def outer(a, b):\\n    def inner(c, d):\\n        return c + d\\n    return inner(a, b)', 'outer(4, 7)', 'def knights(saying):\\n    def inner(quote):\\n        return \"We are the knights who say: \\'%s\\'\" % quote\\n    return inner(saying)', \"knights('shit!')\", \"knights('shit!')\", 'def knights2(saying):\\n    def inner2():\\n        return \"We are the knights who say: \\'%s\\'\" % saying\\n    return inner2', \"a = knights2('dog')\\nb = knights2('shit')\", 'type(a)', 'type(b)', 'a', 'b', 'a()', 'a()', 'b()', 'b()', \"def edit_story(words, func):\\n    for word in words:\\n        print(func(word))\\n        \\ndef enliven(word):\\n    return word.capitalize() + '!'\", \"# define string list and call edit story\\nstairs = ['thud', 'meow', 'thud', 'hiss'] # string list\\nedit_story(stairs, edit_story)\", \"# define string list and call edit story\\nstairs = ['thud', 'meow', 'thud', 'hiss'] # string list\\nedit_story(stairs, enliven)\", \"edit_story(stairs, lambda word: word.capitalize() + '!')\", '# sum integers from 1 to 100\\nsum(range(1, 101))', '# user-defined range()\\ndef my_range(first = 0, last = 10, step = 1):\\n    number = first\\n    while number < last:\\n        yield number\\n        number += step', '# check to see if my_range() is a normal function\\nmy_range', 'ranger = my_range(1, 5)', '# So, what is ranger?\\nranger', '# iterate over generator object (ranger)\\nfor x in ranger:\\n    print(x)', 'my_range(1, 6)', 'print(my_range(1, 6))', 'list(my_range(1, 6))', \"def document_it(func):\\n    def new_function(*args, **kwargs):\\n        print('Running function:', func.__name__)\\n        print('Positional Arguments:', args)\\n        print('Keyword Arguments:', kwargs)\\n        result = func(*args, **kwargs)\\n        print('Result:', result)\\n        return result\\n    return new_function\", \"def document_it(func):\\n    def new_function(*args, **kwargs):\\n        print('Running function:', func.__name__)\\n        print('Positional Arguments:', args)\\n        print('Keyword Arguments:', kwargs)\\n        result = func(*args, **kwargs)\\n        print('Result:', result)\\n        return result\\n    return new_function\", 'def add_ints(a, b):\\n    return a + b', 'add_ints(3, 5)', 'cooler_add_ints = document_it(add_ints)', 'cooler_add_ints(3, 5)', '@document_it\\ndef add_ints(a,  b)', '@document_it\\ndef add_ints(a,  b):\\n    return a + b', 'add_ints(4, 6)', '# new decorator\\ndef square_it(func):\\n    def new_function(*args, **kwargs):\\n        result = func(*args, **kwargs)\\n        return result * result\\n    return new_function', '# use more than one decorator\\n@document_it\\n@square_it\\ndef add_ints(a,  b):\\n    return a + b', 'add_ints(3, 8)', '@square_it\\n@document_it\\ndef add_ints(a,  b):\\n    return a + b', 'add_ints(3, 8)', \"# get value of global variable from within function\\nanimal = 'fruitbat'\\ndef print_global():\\n    print('inside print_global:', animal)\", \"print_global()\\nprint('at the top level:', animal)\", \"# can you change the value of a global variable inside a function? Not by default\\ndef change_and_print_global():\\n    print('inside print_global:', animal)\\n    animal = 'wombat'\\n    print('after the change:', animal)\", 'change_and_print_global()', \"def change_local():\\n    animal = 'wombat'\\n    print('inside change_local:', animal, id(animal))\", 'change_local()\\nid(animal)', '# we see that the id of the global variable and local variable are different ...\\n# ... thus referring to different pieces of information\\nchange_local()\\nid(animal)', \"animal = 'fruitbat'\\ndef change_and_print_global():\\n    global animal\\n    animal = 'wombat'\\n    print('inside change_and_print_global:' animal)\", \"animal = 'fruitbat'\\ndef change_and_print_global():\\n    global animal\\n    animal = 'wombat'\\n    print('inside change_and_print_global:', animal)\", 'change_and_print_global()', 'change_and_print_global()\\nanimal', \"animal = 'fruitbat'\\ndef change_and_print_global():\\n    global animal\\n    animal = 'wombat'\\n    print('inside change_and_print_global:', animal)\", 'change_and_print_global()\\nanimal', \"animal = 'fruitbat'\\ndef change_local():\\n    animal = 'wombat' # local variable\\n    print('locals:', locals())\", 'animal\\nchange_local()', 'print(animal)\\nchange_local()', \"print('globals:', globals())\"], '_i25': '# pair two tuples\\nlist(zip(english, french))', '_60': 2, '_i39': '# nested for in comprehension\\nrows = range(1, 4)\\ncols = range(1, 3)\\ncells = [(row, col) for row in rows for col in cols]\\nfor cell in cells:\\n    print(cell)\\n    \\ncells', '_i21': \"for card, value in accusation.items():\\n    print('The value of %s is %s' % (card, value))\", '_149': 5050, '_i32': 'list(range(0, 11, 2))', '_i131': 'outer(4, 7)', '_i73': '# simplest function you could have\\ndef do_nothing():\\n    pass', '_i61': '3 % 3', '_i104': \"# gather positional arguments coupled with required arguments\\ndef print_args(wine, cheese, *args):\\n    print('Needs my ', wine)\\n    print('Needs my ', cheese, ' too')\\n    print('And all of these too ', args)\", '_i58': 'a_set  = {number for number in range(1, 6) if number % 3 == 1}\\na_set', '___': 140562944493808, '_i30': 'for x in range(2, -1, 1):\\n    print(x)', '_157': [1, 2, 3, 4, 5], 'rows': range(1, 4), '_i71': 'number_list = list(number_thing)\\nnumber_list', '_i93': \"def print_args(*args):\\n    print('Positional argument tuple:', args)\", 'change_local': <function change_local at 0x7fd761aa4158>, 'print_kwargs': <function print_kwargs at 0x7fd75885c510>, '_55': 2, 'days': ['Monday', 'Tuesday', 'Wednesday'], '_i88': \"menu('merlot', 'chicken', 'cookies')\", '_i173': \"print_global()\\nprint('at the top level:', animal)\", '_i159': \"def document_it(func):\\n    def new_function(*args, **kwargs):\\n        print('Running function:', func.__name__)\\n        print('Positional Arguments:', args)\\n        print('Keyword Arguments:', kwargs)\\n        result = func(*args, **kwargs)\\n        print('Result:', result)\\n        return result\\n    return new_function\", 'a_set': {1, 4}, '_i179': \"animal = 'fruitbat'\\ndef change_and_print_global():\\n    global animal\\n    animal = 'wombat'\\n    print('inside change_and_print_global:' animal)\", '_184': 'wombat', '_178': 140562944493808, '_34': [1, 3, 5], 'accusation': {'room': 'ballroom', 'person': 'Col. Mustard', 'weapon': 'lead pipe'}, '_i120': 'run_something_with_args(add_args, 5, 9)', '_i89': \"menue(dessert = 'cake', wine = 'chardonnay', entree = 'beef')\", '_i176': \"def change_local():\\n    animal = 'wombat'\\n    print('inside change_local:', animal, id(animal))\", '_i8': \"numbers = [1, 3, 5]\\nposition = 0\\nwhile position < len(numbers):\\n    number = numbers[position]\\n    if number % 2 == 0:\\n        print('Found even number', number)\\n        break\\n    position += 1\\nelse: # break not called\\n    print('No even number found')\\n    \", 'cheeses': [], '_i100': \"print('merlot', 'cheddar', 'steak', 'popcorn', 'jerky')\", '_i170': '@square_it\\n@document_it\\ndef add_ints(a,  b):\\n    return a + b', 'document_it': <function document_it at 0x7fd75885cf28>, '_i68': 'for number in number_thing:\\n    print(number)', '_i63': 'number_thing = (number for number in range(1, 6))\\ntype(number_thing)', '_i56': \"word = 'letters'\\nletter_counts = {alpha: word.count(alpha) for alpha in set(word)}\\nletter_counts\", '_i70': 'number_thing = (number for number in range(1, 6))\\ntype(number_thing)', '__package__': None, '_70': <class 'generator'>, '_i45': \"word = 'letters'\\nletter_counts = {alpha: word.count(letter) for letter in word}\\nletter_counts\", '_i144': 'b()', '_i143': 'b()', 'french': ('Lundi', 'Mardi', 'Mercredi'), '_i85': \"print(commentary('red'))\\nprint(commentary('green'))\\nprint(commentary('bee purple'))\\nprint(commentary('blue'))\", '_i92': \"menu('chardonnay', 'shrimp')\", '_67': <class 'generator'>, '_i36': '# traditional nested loop\\nrows = range(1, 4)\\ncols = range(1, 3)\\nfor row in rows:\\n    for col in cols:\\n        print(row, col)', '_i4': 'while True:\\n    stuff = input(\"String to capitalize [type q to quit]: \")\\n    if stuff == \"q\":\\n        break\\n    print(stuff.capitalize())', '_138': <class 'function'>, '_i162': 'cooler_add_ints = document_it(add_ints)', '_i12': \"rabbits = ['flopsy', 'mopsy', 'cottontail', 'peter']\\nfor rabbit in rabbits:\\n    print(rabbit.capitalize())\", '_i128': '# use the same approach above but with the *args and *kwargs techniques\\ndef sum_args(*args):\\n    return sum(args)\\n    \\n    \\ndef run_with_positional_args(func, *args):\\n    return func(*args)', '_i122': 'run_something_with_args(add_args, 5, 9)\\nprint(add_args(5, 9))', '_i117': 'def run_something(func):\\n    func()\\n    \\nrun_something(answer)', '_i132': 'def knights(saying):\\n    def inner(quote):\\n        return \"We are the knights who say: \\'%s\\'\" % quote\\n    return inner(saying)', '__loader__': None, '_i31': 'for x in range(2, -1, -1):\\n    print(x)', '_i83': \"print(commentary('red'))\\nprint(commentary('green'))\\nprint(commentary('bee purple'))\\nprint(commentary('blue'))\", '_i139': 'a', '_43': {'l', 't', 'e', 's', 'r'}, '_i153': '# So, what is ranger?\\nranger', '_i151': '# check to see if my_range() is a normal function\\nmy_range', '_i158': \"def document_it(func):\\n    def new_function(*args, **kwargs):\\n        print('Running function:', func.__name__)\\n        print('Positional Arguments:', args)\\n        print('Keyword Arguments:', kwargs)\\n        result = func(*args, **kwargs)\\n        print('Result:', result)\\n        return result\\n    return new_function\", '_69': [], '_i138': 'type(b)', 'item': ('weapon', 'lead pipe'), 'do_nothing': <function do_nothing at 0x7fd75885c488>, '_i133': \"knights('shit!')\", '_i34': 'a_list = [number for number in range(1, 6) if number % 2 == 1]\\na_list', '_i1': 'some_list = []\\nif some_list:\\n    print(\"There is something in here\")\\nelse:\\n    print(\"Please add an item to the list\")\\n        ', '_i161': 'add_ints(3, 5)', 'sum_args': <function sum_args at 0x7fd75885cb70>, '_i129': 'run_with_positional_args(sum_args, 1, 2, 3, 4, 5)', '_i80': \"commentary('red')\", '_153': <generator object my_range at 0x7fd75881b150>, '__builtins__': <module 'builtins' (built-in)>, 'english': ('Monday', 'Tuesday', 'Wednesday'), '_171': 121, '_i97': \"print('merlot', 'cheddar', 'steak', 'popcorn', 'jerky')\", '_i90': \"menu(dessert = 'cake', wine = 'chardonnay', entree = 'beef')\", '_57': 2, '_i188': \"print('globals:', globals())\", '_i49': \"word = 'letters'\\nletter_counts = {alpha: word.count(alpha) for alpha in word}\\nletter_counts\", 'some_list': [], '_56': {'l': 1, 't': 2, 'e': 2, 's': 1, 'r': 1}, '_i174': \"# can you change the value of a global variable inside a function? Not by default\\ndef change_and_print_global():\\n    print('inside print_global:', animal)\\n    animal = 'wombat'\\n    print('after the change:', animal)\", 'square_it': <function square_it at 0x7fd758831840>, 'In': ['', 'some_list = []\\nif some_list:\\n    print(\"There is something in here\")\\nelse:\\n    print(\"Please add an item to the list\")\\n        ', 'count = 1\\nwhile count <= 5:\\n    print(count)\\n    count += 1', 'while true:\\n    stuff = input(\"String to capitalize [type q to quit]: \")\\n    if stuff == \"q\":\\n        break\\n    print(stuff.capitalize())', 'while True:\\n    stuff = input(\"String to capitalize [type q to quit]: \")\\n    if stuff == \"q\":\\n        break\\n    print(stuff.capitalize())', 'while True:\\n    stuff = input(\"String to capitalize [type q to quit]: \")\\n    if stuff == \"q\":\\n        break\\n    print(stuff.capitalize())\\n    print(stuff.upper())', 'while True:\\n    value = input(\"Integer, please [q to quit]: \")\\n    if value == \\'q\\':\\n        break\\n    number = int(value)\\n    if number % 2 == 0:\\n        continue\\n    print(number, \"squared is\", number * number)', 'while True:\\n    value = input(\"Integer, please [q to quit]: \")\\n    if value == \\'q\\':\\n        break\\n    number = int(value)\\n    if number % 2 == 0:\\n        continue\\n    else:\\n        print(number, \"squared is\", number * number)', \"numbers = [1, 3, 5]\\nposition = 0\\nwhile position < len(numbers):\\n    number = numbers[position]\\n    if number % 2 == 0:\\n        print('Found even number', number)\\n        break\\n    position += 1\\nelse: # break not called\\n    print('No even number found')\\n    \", \"numbers = [1, 3, 5, 6]\\nposition = 0\\nwhile position < len(numbers):\\n    number = numbers[position]\\n    if number % 2 == 0:\\n        print('Found even number', number)\\n        break\\n    position += 1\\nelse: # break not called\\n    print('No even number found')\\n    \", \"numbers = [1, 3, 5]\\nposition = 0\\nwhile position < len(numbers):\\n    number = numbers[position]\\n    if number % 2 == 0:\\n        print('Found even number', number)\\n        break\\n    position += 1\\nelse: # break not called\\n    print('No even number found')\\n    \", \"rabbits = ['flopsy', 'mopsy', 'cottontail', 'peter']\\nfor rabbit in rabbits:\\n    print(rabbit)\", \"rabbits = ['flopsy', 'mopsy', 'cottontail', 'peter']\\nfor rabbit in rabbits:\\n    print(rabbit.capitalize())\", \"word = 'cat'\", \"word = 'cat'\\nfor letter in word:\\n    print(letter)\", \"word = 'cat'\\nfor letter in word:\\n    print(letter)\\n    letters += letter\\n    print(letters)\", \"word = 'cat'\\nletters = ''\\nfor letter in word:\\n    print(letter)\\n    letters += letter\\n    print(letters)\", \"accusation = {\\n    'room': 'ballroom',\\n    'weapon': 'lead pipe',\\n    'person': 'Col. Mustard'\\n}\", 'for card in accusation:\\n    print(card)', 'for value in accusation.values():\\n    print(value)', 'for item in accusation.items():\\n    print(item)', \"for card, value in accusation.items():\\n    print('The value of %s is %s' % (card, value))\", \"cheeses = []\\nfor cheese in cheeses:\\n    print('This shop has some lovely', cheese)\\n    break\\nelse: # break not called\\n    print('It would help if there was some cheese')\", 'days = [\\'Monday\\', \\'Tuesday\\', \\'Wednesday\\']\\nfruits = [\\'banana\\', \\'orange\\', \\'peach\\']\\ndrinks = [\\'coffee\\', \\'tea\\', \\'beer\\']\\ndesserts = [\\'tiramasu\\', \\'ice cream\\', \\'pie\\', \\'pudding\\']\\n\\nfor day, fruit, drink, dessert in zip(days, fruits, drinks, desserts):\\n    print(day, \": drink\", drink, \"- eat\", fruit, \"- enjoy\", dessert)', \"english = 'Monday', 'Tuesday', 'Wednesday'\\nfrench = 'Lundi', 'Mardi', 'Mercredi'\", '# pair two tuples\\nlist(zip(english, french))', '# dict\\ndict( zip(english, french))', 'for x in range(0 ,3):\\n    print(x)', 'for x in range(2, -1, -1):\\n    print(x)', 'for x in range(2, -1):\\n    print(x)', 'for x in range(2, -1, 1):\\n    print(x)', 'for x in range(2, -1, -1):\\n    print(x)', 'list(range(0, 11, 2))', 'number_list = [number for number in range(1, 6)]\\nnumber_list', 'a_list = [number for number in range(1, 6) if number % 2 == 1]\\na_list', '# traditional counterpart to a_list\\na_list = []\\nfor number in range(1, 6):\\n    if number % 2 == 1:\\n        a_list.append(number)\\n        \\na_list', '# traditional nested loop\\nrows = range(1, 4)\\ncols = range(1, 3)\\nfor row in rows:\\n    for col in cols:\\n        print(row, col)', '# traditional nested loop\\nrows = range(1, 4)\\ncols = range(1, 3)\\nfor row in rows:\\n    for col in cols:\\n        print(row, col)', '# nested for in comprehension\\nrows = range(1, 4)\\ncols = range(1, 3)\\ncells = [(row, col) for row in rows for col in cols]\\nfor cell in cells:\\n    print(cell)', '# nested for in comprehension\\nrows = range(1, 4)\\ncols = range(1, 3)\\ncells = [(row, col) for row in rows for col in cols]\\nfor cell in cells:\\n    print(cell)\\n    \\ncells', \"word = 'letters'\\nletter_counts = {letter: word.count(letter) for letter in word}\\nletter_counts\", \"word = 'letters'\\nletter_counts = {letters: word.count(letter) for letter in word}\\nletter_counts\", \"word = 'letters'\\nletter_counts = {letter: word.count(letter) for letter in word}\\nletter_counts\", 'set(word)', 'word.count(word)', \"word = 'letters'\\nletter_counts = {alpha: word.count(letter) for letter in word}\\nletter_counts\", \"word = 'letters'\\nletter_counts = {alpha: word.count(letter) for alpha in word}\\nletter_counts\", \"word = 'letters'\\nletter_counts = {alpha: word.count(alpha) for alpha in word}\\nletter_counts\", \"word = 'letters'\\nletter_counts = {alphas: word.count(alpha) for alpha in word}\\nletter_counts\", \"word = 'letters'\\nletter_counts = {alpha: word.count(alpha) for alpha in word}\\nletter_counts\", 'for x in word:\\n    print(x)', 'for x in word:\\n    print(x)\\n    word.count(x)', 'for x in word:\\n    word.count(x)', 'for x in word:\\n    print(word.count(x))', 'for x in set(word):\\n    print(word.count(x))', \"for x in set(word):\\n    print(word.count(x))\\n\\nword.count('e')\", \"word = 'letters'\\nletter_counts = {alpha: word.count(alpha) for alpha in set(word)}\\nletter_counts\", \"'caat'.count('a')\", 'a_set  = {number for number in range(1, 6) if number % 3 == 1}\\na_set', '1 % 3', '2 % 3', '3 % 3', '4 % 3', 'number_thing = (number for number in range(1, 6))\\ntype(number_thing)', 'for number in number_thing:\\n    print(number)', 'for num in a_set:\\n    print(num)', 'number_list = list(number_thing)\\nnumber_list', 'number_thing = (number for number in range(1, 6))\\ntype(number_thing)', 'for number in number_thing:\\n    print(number)', 'number_list = list(number_thing)\\nnumber_list', 'number_thing = (number for number in range(1, 6))\\ntype(number_thing)', 'number_list = list(number_thing)\\nnumber_list', 'try_again = list(number_thing)\\ntry_again', '# simplest function you could have\\ndef do_nothing():\\n    pass', 'do_nothing()', \"def make_a_sound():\\n    print('Quack')\", 'make_a_sound()', \"def echo(anything):\\n    return anything + ' ' + anything\", \"echo('yolo')\", 'def commentary(color):\\n    if color == \\'red\\':\\n        return \"It\\'s a tomato.\"\\n    elif color == \\'green\\':\\n        return \"It\\'s a green pepper.\"\\n    elif color == \\'bee purple\\':\\n        return \"I don\\'t know what it is, but only bees can see it.\"\\n    else:\\n        return \"I\\'ve never heard of the color\" + color + \".\"', \"commentary('red')\", \"commentary('red')\\ncommentary('green')\\ncommentary('bee purple')\", \"print(commentary('red'))\\nprint(commentary('green'))\\nprint(commentary('bee purple'))\", \"print(commentary('red'))\\nprint(commentary('green'))\\nprint(commentary('bee purple'))\\nprint(commentary('blue'))\", 'def commentary(color):\\n    if color == \\'red\\':\\n        return \"It\\'s a tomato.\"\\n    elif color == \\'green\\':\\n        return \"It\\'s a green pepper.\"\\n    elif color == \\'bee purple\\':\\n        return \"I don\\'t know what it is, but only bees can see it.\"\\n    else:\\n        return \"I\\'ve never heard of the color \" + color + \".\"', \"print(commentary('red'))\\nprint(commentary('green'))\\nprint(commentary('bee purple'))\\nprint(commentary('blue'))\", '# what happens if when nothing is returned again\\nprint(do_nothing())', \"def menu(wine, entree, dessert):\\n    return {'wine': wine, 'entree': entree, 'dessert': dessert}\", \"menu('merlot', 'chicken', 'cookies')\", \"menue(dessert = 'cake', wine = 'chardonnay', entree = 'beef')\", \"menu(dessert = 'cake', wine = 'chardonnay', entree = 'beef')\", \"# default value\\ndef menu(wine, entree, dessert = 'pudding'):\\n    return {'wine': wine, 'entree': entree, 'dessert': dessert}\", \"menu('chardonnay', 'shrimp')\", \"def print_args(*args):\\n    print('Positional argument tuple:', args)\", 'print_args()', \"print_args(3, 2, 1, 'wait', 'hu...?')\", \"# gather positional arguments coupled with required arguments\\ndef print_args(wine, cheese, *args):\\n    print('Needs my ', wine)\\n    print('Nees my ', cheese, ' too')\\n    print('And all of these too ', args)\", \"print('merlot', 'cheddar', 'steak', 'popcorn', 'jerky')\", \"# gather positional arguments coupled with required arguments\\ndef print_args(wine, cheese, *args):\\n    print('Needs my ', wine)\\n    print('Nees my ', cheese, ' too')\\n    print('And all of these too ', *args)\", \"# gather positional arguments coupled with required arguments\\ndef print_args(wine, cheese, *args):\\n    print('Needs my ', wine)\\n    print('Nees my ', cheese, ' too')\\n    print('And all of these too ', *args)\", \"print('merlot', 'cheddar', 'steak', 'popcorn', 'jerky')\", \"print('merlot', 'cheddar', 'steak', 'popcorn', 'jerky')\", \"# gather positional arguments coupled with required arguments\\ndef print_args(wine, cheese, *args):\\n    print('Needs my ', wine)\\n    print('Nees my ', cheese, ' too')\\n    print('And all of these too ', args)\", \"print_args('merlot', 'cheddar', 'steak', 'popcorn', 'jerky')\", \"# gather positional arguments coupled with required arguments\\ndef print_args(wine, cheese, *args):\\n    print('Needs my ', wine)\\n    print('Needs my ', cheese, ' too')\\n    print('And all of these too ', args)\", \"print_args('merlot', 'cheddar', 'steak', 'popcorn', 'jerky')\", \"# gather positional arguments coupled with required arguments\\ndef print_args(wine, cheese, *args):\\n    print('Needs my', wine)\\n    print('Needs my', cheese, 'too')\\n    print('And all of these too ', args)\", \"print_args('merlot', 'cheddar', 'steak', 'popcorn', 'jerky')\", '# kwargs changes to dictionary\\ndef print_kwargs(**kwargs):', \"# kwargs changes to dictionary\\ndef print_kwargs(**kwargs):\\n    print('Keyword arguments:', kwargs)\", 'print_kwargs()', \"print_kwargs(wine = 'wine', cheese = 'cheddar', dessert = 'pudding')\", \"def echo(anything):\\n    'echo returns its input argument'\\n    return anything\", 'help(echo)', 'print(echo._doc_)', 'print(echo.__doc__)', 'def answer():\\n    print(42)\\n    \\nanswer()', 'def run_something(func):\\n    func()\\n    \\nrun_something(answer)', 'def add_args(arg1, arg2):\\n    print(arg1 + arg2)', 'def run_something_with_args(func, arg1, arg2):\\n    func(arg1, arg2)', 'run_something_with_args(add_args, 5, 9)', 'run_something_with_args(add_args, 5, 9)\\nprint(add_args(5, 9))', 'run_something_with_args(add_args, 5, 9)\\nprint(add_args(5, 9))', 'run_something_with_args(add_args, 5, 9)\\nadd_args(5, 9)', '# use the same approach above but with the *args and *kwargs techniques\\ndef sum_args(*args):\\n    sum(args)\\n    \\n    \\ndef run_with_positional_args(func, *args):\\n    return func(*args)', '# use the same approach above but with the *args and *kwargs techniques\\ndef sum_args(*args):\\n    sum(args)\\n    \\n    \\ndef run_with_positional_args(func, *args):\\n    return func(*args)', 'run_with_positional_args(1, 2, 3, 4, 5)', 'run_with_positional_args(sum_args, 1, 2, 3, 4, 5)', '# use the same approach above but with the *args and *kwargs techniques\\ndef sum_args(*args):\\n    return sum(args)\\n    \\n    \\ndef run_with_positional_args(func, *args):\\n    return func(*args)', 'run_with_positional_args(sum_args, 1, 2, 3, 4, 5)', 'def outer(a, b):\\n    def inner(c, d):\\n        return c + d\\n    return inner(a, b)', 'outer(4, 7)', 'def knights(saying):\\n    def inner(quote):\\n        return \"We are the knights who say: \\'%s\\'\" % quote\\n    return inner(saying)', \"knights('shit!')\", \"knights('shit!')\", 'def knights2(saying):\\n    def inner2():\\n        return \"We are the knights who say: \\'%s\\'\" % saying\\n    return inner2', \"a = knights2('dog')\\nb = knights2('shit')\", 'type(a)', 'type(b)', 'a', 'b', 'a()', 'a()', 'b()', 'b()', \"def edit_story(words, func):\\n    for word in words:\\n        print(func(word))\\n        \\ndef enliven(word):\\n    return word.capitalize() + '!'\", \"# define string list and call edit story\\nstairs = ['thud', 'meow', 'thud', 'hiss'] # string list\\nedit_story(stairs, edit_story)\", \"# define string list and call edit story\\nstairs = ['thud', 'meow', 'thud', 'hiss'] # string list\\nedit_story(stairs, enliven)\", \"edit_story(stairs, lambda word: word.capitalize() + '!')\", '# sum integers from 1 to 100\\nsum(range(1, 101))', '# user-defined range()\\ndef my_range(first = 0, last = 10, step = 1):\\n    number = first\\n    while number < last:\\n        yield number\\n        number += step', '# check to see if my_range() is a normal function\\nmy_range', 'ranger = my_range(1, 5)', '# So, what is ranger?\\nranger', '# iterate over generator object (ranger)\\nfor x in ranger:\\n    print(x)', 'my_range(1, 6)', 'print(my_range(1, 6))', 'list(my_range(1, 6))', \"def document_it(func):\\n    def new_function(*args, **kwargs):\\n        print('Running function:', func.__name__)\\n        print('Positional Arguments:', args)\\n        print('Keyword Arguments:', kwargs)\\n        result = func(*args, **kwargs)\\n        print('Result:', result)\\n        return result\\n    return new_function\", \"def document_it(func):\\n    def new_function(*args, **kwargs):\\n        print('Running function:', func.__name__)\\n        print('Positional Arguments:', args)\\n        print('Keyword Arguments:', kwargs)\\n        result = func(*args, **kwargs)\\n        print('Result:', result)\\n        return result\\n    return new_function\", 'def add_ints(a, b):\\n    return a + b', 'add_ints(3, 5)', 'cooler_add_ints = document_it(add_ints)', 'cooler_add_ints(3, 5)', '@document_it\\ndef add_ints(a,  b)', '@document_it\\ndef add_ints(a,  b):\\n    return a + b', 'add_ints(4, 6)', '# new decorator\\ndef square_it(func):\\n    def new_function(*args, **kwargs):\\n        result = func(*args, **kwargs)\\n        return result * result\\n    return new_function', '# use more than one decorator\\n@document_it\\n@square_it\\ndef add_ints(a,  b):\\n    return a + b', 'add_ints(3, 8)', '@square_it\\n@document_it\\ndef add_ints(a,  b):\\n    return a + b', 'add_ints(3, 8)', \"# get value of global variable from within function\\nanimal = 'fruitbat'\\ndef print_global():\\n    print('inside print_global:', animal)\", \"print_global()\\nprint('at the top level:', animal)\", \"# can you change the value of a global variable inside a function? Not by default\\ndef change_and_print_global():\\n    print('inside print_global:', animal)\\n    animal = 'wombat'\\n    print('after the change:', animal)\", 'change_and_print_global()', \"def change_local():\\n    animal = 'wombat'\\n    print('inside change_local:', animal, id(animal))\", 'change_local()\\nid(animal)', '# we see that the id of the global variable and local variable are different ...\\n# ... thus referring to different pieces of information\\nchange_local()\\nid(animal)', \"animal = 'fruitbat'\\ndef change_and_print_global():\\n    global animal\\n    animal = 'wombat'\\n    print('inside change_and_print_global:' animal)\", \"animal = 'fruitbat'\\ndef change_and_print_global():\\n    global animal\\n    animal = 'wombat'\\n    print('inside change_and_print_global:', animal)\", 'change_and_print_global()', 'change_and_print_global()\\nanimal', \"animal = 'fruitbat'\\ndef change_and_print_global():\\n    global animal\\n    animal = 'wombat'\\n    print('inside change_and_print_global:', animal)\", 'change_and_print_global()\\nanimal', \"animal = 'fruitbat'\\ndef change_local():\\n    animal = 'wombat' # local variable\\n    print('locals:', locals())\", 'animal\\nchange_local()', 'print(animal)\\nchange_local()', \"print('globals:', globals())\"], '_i186': 'animal\\nchange_local()', '_i110': 'print_kwargs()', '_i171': 'add_ints(3, 8)', '_i95': \"print_args(3, 2, 1, 'wait', 'hu...?')\", '_i154': '# iterate over generator object (ranger)\\nfor x in ranger:\\n    print(x)', '_i6': 'while True:\\n    value = input(\"Integer, please [q to quit]: \")\\n    if value == \\'q\\':\\n        break\\n    number = int(value)\\n    if number % 2 == 0:\\n        continue\\n    print(number, \"squared is\", number * number)', 'number_list': [1, 2, 3, 4, 5], '_i113': 'help(echo)', '_i142': 'a()', '_i87': \"def menu(wine, entree, dessert):\\n    return {'wine': wine, 'entree': entree, 'dessert': dessert}\", '_i187': 'print(animal)\\nchange_local()', '_i119': 'def run_something_with_args(func, arg1, arg2):\\n    func(arg1, arg2)', '_163': 8, '_i13': \"word = 'cat'\", 'echo': <function echo at 0x7fd75885c6a8>, '_142': \"We are the knights who say: 'dog'\", '_i76': 'make_a_sound()', '_i165': '@document_it\\ndef add_ints(a,  b):\\n    return a + b', '_': 'wombat', '_i42': \"word = 'letters'\\nletter_counts = {letter: word.count(letter) for letter in word}\\nletter_counts\", '_i146': \"# define string list and call edit story\\nstairs = ['thud', 'meow', 'thud', 'hiss'] # string list\\nedit_story(stairs, edit_story)\", 'letter': 't', '_59': 1, '__spec__': None, '_i116': 'def answer():\\n    print(42)\\n    \\nanswer()', '_i175': 'change_and_print_global()', '_46': {'l': 2, 't': 2, 'e': 2, 's': 2, 'r': 2}, '_i50': 'for x in word:\\n    print(x)', '_i169': 'add_ints(3, 8)', '_i115': 'print(echo.__doc__)', '_i18': 'for card in accusation:\\n    print(card)', 'num': 4, '_i109': \"# kwargs changes to dictionary\\ndef print_kwargs(**kwargs):\\n    print('Keyword arguments:', kwargs)\", '_i3': 'while true:\\n    stuff = input(\"String to capitalize [type q to quit]: \")\\n    if stuff == \"q\":\\n        break\\n    print(stuff.capitalize())', 'animal': 'fruitbat', '_143': \"We are the knights who say: 'shit'\", '_i178': '# we see that the id of the global variable and local variable are different ...\\n# ... thus referring to different pieces of information\\nchange_local()\\nid(animal)', 'rabbit': 'peter', '_39': [(1, 1), (1, 2), (2, 1), (2, 2), (3, 1), (3, 2)], '_78': 'yolo yolo', '_sh': <module 'IPython.core.shadowns' from '/home/rerwin21/anaconda3/lib/python3.5/site-packages/IPython/core/shadowns.py'>, 'fruits': ['banana', 'orange', 'peach'], '_ii': 'animal\\nchange_local()', 'numbers': [1, 3, 5], '_i134': \"knights('shit!')\", '_i82': \"print(commentary('red'))\\nprint(commentary('green'))\\nprint(commentary('bee purple'))\", 'answer': <function answer at 0x7fd75885c950>}\n"
     ]
    }
   ],
   "source": [
    "print('globals:', globals())"
   ]
  },
  {
   "cell_type": "code",
   "execution_count": null,
   "metadata": {
    "collapsed": true
   },
   "outputs": [],
   "source": []
  }
 ],
 "metadata": {
  "kernelspec": {
   "display_name": "Python 3",
   "language": "python",
   "name": "python3"
  },
  "language_info": {
   "codemirror_mode": {
    "name": "ipython",
    "version": 3
   },
   "file_extension": ".py",
   "mimetype": "text/x-python",
   "name": "python",
   "nbconvert_exporter": "python",
   "pygments_lexer": "ipython3",
   "version": "3.5.1"
  }
 },
 "nbformat": 4,
 "nbformat_minor": 0
}
