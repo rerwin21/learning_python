{
 "cells": [
  {
   "cell_type": "markdown",
   "metadata": {},
   "source": [
    "# Chapter 9, The Web"
   ]
  },
  {
   "cell_type": "markdown",
   "metadata": {},
   "source": [
    "Python's standard web modules have been bundled into one of two packages: `http` and `urllib`."
   ]
  },
  {
   "cell_type": "code",
   "execution_count": 1,
   "metadata": {
    "collapsed": true
   },
   "outputs": [],
   "source": [
    "import urllib.request as ur"
   ]
  },
  {
   "cell_type": "code",
   "execution_count": 4,
   "metadata": {
    "collapsed": true
   },
   "outputs": [],
   "source": [
    "url = 'http://www.quotes.com'"
   ]
  },
  {
   "cell_type": "code",
   "execution_count": 5,
   "metadata": {
    "collapsed": false
   },
   "outputs": [],
   "source": [
    "conn = ur.urlopen(url)"
   ]
  },
  {
   "cell_type": "code",
   "execution_count": 6,
   "metadata": {
    "collapsed": false
   },
   "outputs": [
    {
     "name": "stdout",
     "output_type": "stream",
     "text": [
      "<http.client.HTTPResponse object at 0x7f65340ca128>\n"
     ]
    }
   ],
   "source": [
    "print(conn)"
   ]
  },
  {
   "cell_type": "code",
   "execution_count": 7,
   "metadata": {
    "collapsed": true
   },
   "outputs": [],
   "source": [
    "data = conn.read()"
   ]
  },
  {
   "cell_type": "code",
   "execution_count": 8,
   "metadata": {
    "collapsed": false
   },
   "outputs": [
    {
     "name": "stdout",
     "output_type": "stream",
     "text": [
      "b'<!DOCTYPE html>\\n<!--[if lt IE 7 ]><html class=\"ie ie6\" lang=\"en-US\"> <![endif]-->\\n<!--[if IE 7 ]><html class=\"ie ie7\" lang=\"en-US\"> <![endif]-->\\n<!--[if IE 8 ]><html class=\"ie ie8\" lang=\"en-US\"> <![endif]-->\\n<!--[if (gte IE 9)|!(IE)]><!--><html lang=\"en-US\"> <!--<![endif]-->\\n<head>\\n<meta http-equiv=\"Content-Type\" content=\"text/html; charset=UTF-8\" />\\n<link rel=\"profile\" href=\"http://gmpg.org/xfn/11\" />\\n<meta name=\"viewport\" content=\"width=device-width, initial-scale=1, maximum-scale=1\" />\\n<link rel=\"pingback\" href=\"https://quotes.com/xmlrpc.php\" />\\n<!-- OptimizePress SEO options -->\\n<title></title>\\n<meta property=\"og:title\" content=\"\" />\\n<!-- OptimizePress SEO options end -->\\n<link rel=\"alternate\" type=\"application/rss+xml\" title=\"Bringing Advertisers and Publishers Together &raquo; Feed\" href=\"https://quotes.com/feed/\" />\\n<link rel=\"alternate\" type=\"application/rss+xml\" title=\"Bringing Advertisers and Publishers Together &raquo; Comments Feed\" href=\"https://quotes.com/comments/feed/\" />\\n<link rel=\"alternate\" type=\"application/rss+xml\" title=\"Bringing Advertisers and Publishers Together &raquo; Home Comments Feed\" href=\"https://quotes.com/home-page/feed/\" />\\n<link rel=\\'stylesheet\\' id=\\'js_composer_custom_css-css\\'  href=\\'http://quotes.com/wp-content/uploads/js_composer/custom.css?ver=4.3.3\\' type=\\'text/css\\' media=\\'screen\\' />\\n<link rel=\\'stylesheet\\' id=\\'optimizepress-wp-css\\'  href=\\'https://quotes.com/wp-content/themes/optimizePressTheme/lib/css/wp.css?ver=2.1.8.1\\' type=\\'text/css\\' media=\\'all\\' />\\n<link rel=\\'stylesheet\\' id=\\'optimizepress-page-style-css\\'  href=\\'https://quotes.com/wp-content/themes/optimizePressTheme/pages/marketing/1/style.min.css?ver=2.1.8.1\\' type=\\'text/css\\' media=\\'all\\' />\\n<link rel=\\'stylesheet\\' id=\\'optimizepress-default-css\\'  href=\\'https://quotes.com/wp-content/themes/optimizePressTheme/lib/assets/default.min.css?ver=2.1.8.1\\' type=\\'text/css\\' media=\\'all\\' />\\n<link rel=\\'stylesheet\\' id=\\'ws-plugin--optimizemember-css\\'  href=\\'https://quotes.com/wp-content/plugins/optimizeMember/optimizeMember-o.php?ws_plugin__optimizemember_css=1&#038;qcABC=1&#038;ver=1.0.10-1.0.10-1148439503\\' type=\\'text/css\\' media=\\'all\\' />\\n<script type=\\'text/javascript\\' src=\\'https://quotes.com/wp-includes/js/jquery/jquery.js?ver=1.11.0\\'></script>\\n<script type=\\'text/javascript\\' src=\\'https://quotes.com/wp-includes/js/jquery/jquery-migrate.min.js?ver=1.2.1\\'></script>\\n<script type=\\'text/javascript\\' src=\\'https://quotes.com/wp-content/themes/optimizePressTheme/lib/js/jquery/jquery.noconflict.min.js?ver=2.1.8.1\\'></script>\\n<script type=\\'text/javascript\\' src=\\'https://quotes.com/wp-content/themes/optimizePressTheme/lib/js/jquery/jquery.loadScript.min.js?ver=2.1.8.1\\'></script>\\n<script type=\\'text/javascript\\'>\\n/* <![CDATA[ */\\nvar _zxcvbnSettings = {\"src\":\"https:\\\\/\\\\/quotes.com\\\\/wp-includes\\\\/js\\\\/zxcvbn.min.js\"};\\n/* ]]> */\\n</script>\\n<script type=\\'text/javascript\\' src=\\'https://quotes.com/wp-includes/js/zxcvbn-async.min.js?ver=1.0\\'></script>\\n<script type=\\'text/javascript\\'>\\n/* <![CDATA[ */\\nvar pwsL10n = {\"empty\":\"Strength indicator\",\"short\":\"Very weak\",\"bad\":\"Weak\",\"good\":\"Medium\",\"strong\":\"Strong\",\"mismatch\":\"Mismatch\"};\\n/* ]]> */\\n</script>\\n<script type=\\'text/javascript\\' src=\\'https://quotes.com/wp-admin/js/password-strength-meter.min.js?ver=3.9.2\\'></script>\\n<script type=\\'text/javascript\\' src=\\'https://quotes.com/wp-content/plugins/optimizeMember/optimizeMember-o.php?ws_plugin__optimizemember_js_w_globals=1&#038;qcABC=1&#038;ver=1.0.10-1.0.10-1148439503\\'></script>\\n<link rel=\"EditURI\" type=\"application/rsd+xml\" title=\"RSD\" href=\"https://quotes.com/xmlrpc.php?rsd\" />\\n<link rel=\"wlwmanifest\" type=\"application/wlwmanifest+xml\" href=\"https://quotes.com/wp-includes/wlwmanifest.xml\" /> \\n<meta name=\"generator\" content=\"WordPress 3.9.2\" />\\n<link rel=\\'canonical\\' href=\\'https://quotes.com/\\' />\\n<link rel=\\'shortlink\\' href=\\'https://quotes.com/\\' />\\n<script type=\"text/javascript\">OP = (typeof(OP)==\"undefined\" ? {\"flowplayerHTML5\":\"https:\\\\/\\\\/quotes.com\\\\/wp-content\\\\/themes\\\\/optimizePressTheme\\\\/lib\\\\/modules\\\\/blog\\\\/video\\\\/flowplayerHTML5\\\\/flowplayer.swf\",\"flowplayerKey\":\"\",\"flowplayerLogo\":\"\",\"flowplayer\":\"https:\\\\/\\\\/quotes.com\\\\/wp-content\\\\/themes\\\\/optimizePressTheme\\\\/lib\\\\/modules\\\\/blog\\\\/video\\\\/flowplayer\\\\/flowplayer-3.2.7.swf\",\"flowplayer_control\":\"https:\\\\/\\\\/quotes.com\\\\/wp-content\\\\/themes\\\\/optimizePressTheme\\\\/lib\\\\/modules\\\\/blog\\\\/video\\\\/flowplayer\\\\/flowplayer.controls-3.2.5.swf\",\"mediaelementplayer\":\"https:\\\\/\\\\/quotes.com\\\\/wp-content\\\\/themes\\\\/optimizePressTheme\\\\/lib\\\\/modules\\\\/blog\\\\/video\\\\/mediaelement\\\\/\",\"SN\":\"optimizepress\",\"paths\":{\"url\":\"https:\\\\/\\\\/quotes.com\\\\/wp-content\\\\/themes\\\\/optimizePressTheme\\\\/\",\"img\":\"https:\\\\/\\\\/quotes.com\\\\/wp-content\\\\/themes\\\\/optimizePressTheme\\\\/lib\\\\/images\\\\/\",\"js\":\"https:\\\\/\\\\/quotes.com\\\\/wp-content\\\\/themes\\\\/optimizePressTheme\\\\/lib\\\\/js\\\\/\",\"css\":\"https:\\\\/\\\\/quotes.com\\\\/wp-content\\\\/themes\\\\/optimizePressTheme\\\\/lib\\\\/css\\\\/\"},\"social\":{\"twitter\":\"optimizepress\",\"facebook\":\"optimizepress\",\"googleplus\":\"111273444733787349971\"}} : OP);</script>\\n\\t\\t<!--[if (gte IE 6)&(lte IE 8)]>\\n\\t\\t<script type=\"text/javascript\" src=\"https://quotes.com/wp-content/themes/optimizePressTheme/lib/js/selectivizr-1.0.2-min.js?ver=1.0.2\"></script>\\n\\t\\t<![endif]-->\\n\\t\\t<!--[if IE]><script src=\"http://html5shiv.googlecode.com/svn/trunk/html5.js\"></script><![endif]-->\\n\\t\\n<style type=\"text/css\" id=\"op_header_css\">\\np, .single-post-content li,#content_area li{font-size:17px;font-family:\"Source Sans Pro\", sans-serif;color:#444}a, blockquote{font-family:\"Source Sans Pro\", sans-serif}h1,.main-content h1,.single-post-content h1,.full-width.featured-panel h1,.latest-post h1.the-title{font-family:\"Source Sans Pro\", sans-serif}h2,.main-content h2,.single-post-content h2,.op-page-header h2,.featured-panel h2,.featured-posts .post-content h2,.featured-posts .post-content h2 a,.latest-post h2 a{font-style:normal;font-weight:300;font-family:\"Open Sans\", sans-serif}.footer{background: #212121;background: -moz-linear-gradient(top, #212121 0%, #212121 100%);background: -webkit-gradient(linear, left top, left bottom, color-stop(0%,#212121), color-stop(100%,#212121));background: -webkit-linear-gradient(top, #212121 0%,#212121 100%);background: -o-linear-gradient(top, #212121 0%,#212121 100%);background: -ms-linear-gradient(top, #212121 0%,#212121 100%);background: linear-gradient(top, #212121 0%,#212121 100%));filter: progid:DXImageTransform.Microsoft.gradient( startColorstr=\\'#212121\\', endColorstr=\\'#212121\\',GradientType=0 )}.footer-navigation ul li a{color:#dbdbdb}.footer-navigation ul li a:hover{color:#dbdbdb}.footer p{color:#dbdbdb}.footer h1{color:#dbdbdb}.footer h2{color:#dbdbdb}.footer h3{color:#dbdbdb}.footer h4{color:#dbdbdb}.footer h5{color:#dbdbdb}.footer h6{color:#dbdbdb}.footer a{color:#dbdbdb}.footer a:hover{color:#dbdbdb}.footer small.footer-copyright{color:#dbdbdb}.footer small.footer-copyright a{color:#dbdbdb}.footer small.footer-copyright a:hover{color:#dbdbdb}.footer small.footer-disclaimer{color:#dbdbdb}.footer small.footer-disclaimer a{color:#dbdbdb}.footer small.footer-disclaimer a:hover{color:#dbdbdb}\\n</style>\\n<meta name=\"generator\" content=\"Powered by Visual Composer - drag and drop page builder for WordPress.\"/>\\n<style type=\"text/css\">.banner .logo img{width:200px}</style>\\n<link href=\"https://fonts.googleapis.com/css?family=Source Sans Pro:300,r,i,b,bi|Open Sans:300,r,b,i,bi\" rel=\"stylesheet\" type=\"text/css\" /></head>\\n<body class=\"home page page-id-110 page-template-default op-live-editor-page op-theme wpb-js-composer js-comp-ver-4.3.3 vc_responsive\">\\n\\t<div class=\"container main-content\">\\n\\t\\t\\t\\t<div class=\"banner include-nav\" style=\"background-color:#ffffff\">\\n\\t\\t\\t<div class=\"fixed-width cf\">\\n            \\t\\t\\t\\t\\t<div class=\"eight columns\">\\n\\t\\t\\t\\t\\t<h1 class=\"op-logo\"><a href=\"http://quotes.com/\" title=\"Bringing Advertisers and Publishers Together\" rel=\"home\"><img src=\"http://quotes.com/wp-content/uploads/2014/09/logo.png\" alt=\"Bringing Advertisers and Publishers Together\" /></a></h1>\\t\\t\\t\\t</div>\\n\\t\\t\\t\\t\\t\\t\\t</div>\\n\\t\\t</div>\\n\\t\\t\\t\\t<div class=\"nav-bar-below op-page-header cf\">\\n\\t\\t\\t<div class=\"fixed-width\">\\n\\t\\t\\t\\t<div class=\"twentyfour columns\">\\n                \\t\\n\\t\\t\\t\\t\\t\\t\\t<style>\\n\\t\\t\\t\\t\\t\\t\\t\\t.op-page-header .navigation #navigation-below a{\\n\\t\\t\\t\\t\\t\\t\\t\\t\\t\\n\\t\\t\\t\\t\\t\\t\\t\\t}\\n\\t\\t\\t\\t\\t\\t\\t</style>\\n\\t\\t\\t\\t\\t\\t\\n\\t\\t\\t\\t\\t<nav class=\"navigation\">\\n\\t\\t\\t\\t\\t\\t<ul id=\"navigation-below\"><li id=\"menu-item-123\" class=\"menu-item menu-item-type-post_type menu-item-object-page current-menu-item page_item page-item-110 current_page_item menu-item-123\"><a href=\"https://quotes.com/\">Home</a></li>\\n<li id=\"menu-item-124\" class=\"menu-item menu-item-type-post_type menu-item-object-page menu-item-124\"><a href=\"https://quotes.com/advertisers_mainpage/\">Advertisers</a></li>\\n<li id=\"menu-item-130\" class=\"menu-item menu-item-type-post_type menu-item-object-page menu-item-130\"><a href=\"https://quotes.com/publishers/\">Publishers</a></li>\\n<li id=\"menu-item-144\" class=\"menu-item menu-item-type-post_type menu-item-object-page menu-item-144\"><a href=\"https://quotes.com/about-us/\">About Us</a></li>\\n\\n\\t\\t\\t\\t\\t\\t</ul>\\n\\t\\t\\t\\t\\t</nav>\\t\\t\\t\\t</div>\\n\\t\\t\\t</div>\\n\\t\\t</div>\\n        <div id=\"content_area\" class=\"\">\\n\\t\\t\\t\\t\\t<div style=\\'background:#ffffff;padding-top:40px;padding-bottom:0px;\\'  class=\"row one-column cf ui-sortable section\" id=\"le_body_row_1\" data-style=\"eyJiYWNrZ3JvdW5kQ29sb3JTdGFydCI6IiNmZmZmZmYiLCJwYWRkaW5nVG9wIjoiNDAiLCJwYWRkaW5nQm90dG9tIjoiMCJ9\"><div class=\"fixed-width\">\\n\\t\\t\\t\\t\\t\\t<div class=\"one-column column cols\" id=\"le_body_row_1_col_1\"><div class=\"element-container cf\" data-style=\"\" id=\"le_body_row_1_col_1_el_1\"><div class=\"element\"> <h2 style=\\'font-size:40px;font-weight:bold;color:#101114;text-shadow:1px 1px 0px #000;text-shadow:1px 1px 0px rgba(0,0,0,0.5);text-align:center;\\'><h1><center>Bringing Advertisers and Publishers together</center></h1>\\n</h2>\\n </div></div><div class=\"element-container cf\" data-style=\"\" id=\"le_body_row_1_col_1_el_2\"><div class=\"element\"> <h2 style=\\'font-size:26px;color:#101114;text-shadow:1px 1px 0px #000;text-shadow:1px 1px 0px rgba(0,0,0,0.5);text-align:center;\\'>Marketing for Direct Navigation Traffic</h2>\\n </div></div><div class=\"element-container cf\" data-style=\"\" id=\"le_body_row_1_col_1_el_3\"><div class=\"element\"> \\n\\t\\t\\t\\t<div class=\"image-caption\" style=\\'width:691px;margin-top:5px;margin-bottom:50px;margin-right:auto;margin-left:auto;\\'>\\n\\t\\t\\t\\t\\t<img alt=\"\" src=\"http://www.culha.org/wp-content/uploads/2014/09/quotes_home_cloud-e1409906134544.jpg\" border=\"0\" class=\"full-width\" />\\n\\t\\t\\t\\t</div>\\n\\t\\t\\t\\n </div></div><div class=\"element-container cf\" data-style=\"\" id=\"le_body_row_1_col_1_el_4\"><div class=\"element\"> <p style=\"text-align:center\"><a href=\"quotes.com/latest-news/\" style=\\'font-size:30px;font-weight:bold;text-shadow:1px 1px 0px #fff;text-shadow:1px 1px 0px rgba(255,255,255,0.5);\\'>Quotes.com launches our new branding</a></p>\\n </div></div></div></div></div>\\n\\t\\t\\t\\t\\t<div style=\\'padding-bottom:0px;\\'  class=\"row one-column cf ui-sortable section\" id=\"le_body_row_2\" data-style=\"eyJwYWRkaW5nQm90dG9tIjoiMCJ9\"><div class=\"fixed-width\">\\n\\t\\t\\t\\t\\t\\t<div class=\"one-column column cols\" id=\"le_body_row_2_col_1\"><div class=\"element-container cf\" data-style=\"\" id=\"le_body_row_2_col_1_el_1\"><div class=\"element\"> <ul class=\"feature-block feature-block-style-4 feature-block-three-col cf\">\\n\\t\\t\\t\\t\\t<li>\\n\\t\\t\\t\\t\\t\\t<div>\\n\\t\\t\\t\\t\\t\\t\\t<span style=\"background-color: #0194e3;\"><img class=\"feature-block-4\" src=\"https://quotes.com/wp-content/themes/optimizePressTheme/lib/assets/images/feature_block/icons/241-alt.png\" /></span><h2>High Quality Domain Traffic</h2><p>Targeted, high quality traffic means more conversions.</p>\\n\\n\\t\\t\\t\\t\\t\\t</div>\\n\\t\\t\\t\\t\\t</li>\\n\\t\\t\\t\\t \\n\\t\\t\\t\\t\\t<li>\\n\\t\\t\\t\\t\\t\\t<div>\\n\\t\\t\\t\\t\\t\\t\\t<span style=\"background-color: #0194e3;\"><img class=\"feature-block-4\" src=\"https://quotes.com/wp-content/themes/optimizePressTheme/lib/assets/images/feature_block/icons/242-alt.png\" /></span><h2>Direct to Advertizers</h2><p>Direct to Advertizer monetization means higher RPMs.</p>\\n\\n\\t\\t\\t\\t\\t\\t</div>\\n\\t\\t\\t\\t\\t</li>\\n\\t\\t\\t\\t \\n\\t\\t\\t\\t\\t<li>\\n\\t\\t\\t\\t\\t\\t<div>\\n\\t\\t\\t\\t\\t\\t\\t<span style=\"background-color: #0194e3;\"><img class=\"feature-block-4\" src=\"https://quotes.com/wp-content/themes/optimizePressTheme/lib/assets/images/feature_block/icons/232-alt.png\" /></span><h2>Our New Mobile Stream</h2><p>Monetize highly targeted mobile device traffic.</p>\\n\\n\\t\\t\\t\\t\\t\\t</div>\\n\\t\\t\\t\\t\\t</li>\\n\\t\\t\\t\\t </ul>\\n </div></div><div class=\"element-container cf\" data-style=\"\" id=\"le_body_row_2_col_1_el_2\"><div class=\"element\"> <div class=\"styled-hr hr-style-4\"><hr /></div>\\n </div></div><div class=\"element-container cf\" data-style=\"\" id=\"le_body_row_2_col_1_el_3\"><div class=\"element\"> \\n<div id=\"ae0de0653eb12adb9cd00c50c1675e5a\" class=\"feature-box-creator feature-box-creator-style-1\" style=\" width: 940px;\">\\n    <div class=\"feature-box-content cf\">\\n<div class=\"row element-container cf \" ><div class=\"op-text-block\" style=\"width:100%;text-align: left;\"><h2><strong><center>Latest News</center></strong></h2>\\n<p>Quotes.com Advertiser API has been released. After 3 months of development and testing our Advertiser API is live. Please contact your account manager for more information and the implementation guide.</p>\\n</div></div>\\n\\n</div>\\n</div>\\n </div></div><div class=\"element-container cf\" data-style=\"\" id=\"le_body_row_2_col_1_el_4\"><div class=\"element\"> <div class=\"styled-hr hr-style-4\"><hr /></div>\\n </div></div></div></div></div>\\n\\t\\t\\t\\t\\t<div style=\\'padding-top:0px;padding-bottom:50px;\\'  class=\"row two-columns cf ui-sortable\" id=\"le_body_row_3\" data-style=\"eyJwYWRkaW5nVG9wIjoiMCIsInBhZGRpbmdCb3R0b20iOiI1MCJ9\"><div class=\"fixed-width\">\\n\\t\\t\\t\\t\\t\\t<div class=\"one-half column cols\" id=\"le_body_row_3_col_1\"><div class=\"element-container cf\" data-style=\"\" id=\"le_body_row_3_col_1_el_1\"><div class=\"element\"> <div class=\"op-text-block\" style=\"width:100%;text-align: left;\"><p><H2><center>Monetize your traffic by going direct to advertisers.</center></H2></p>\\n</div>\\n </div></div><div class=\"element-container cf\" data-style=\"\" id=\"le_body_row_3_col_1_el_2\"><div class=\"element\"> <div style=\"text-align:center\"><style type=\"text/css\">#btn_1_a601c8dde44a1f91fa87da3dd69eb140 .text {font-size:32px;color:#000000;font-family:Source Sans Pro;font-weight:bold;text-shadow:#25546f 0px 1px 0px;}#btn_1_a601c8dde44a1f91fa87da3dd69eb140 .subtext {font-size:20px;color:#000000;font-weight:normal;text-shadow:#25546f 0px 1px 0px;}#btn_1_a601c8dde44a1f91fa87da3dd69eb140 {padding:25px 50px;border-color:#517183;border-width:1px;-moz-border-radius:6px;-webkit-border-radius:6px;border-radius:6px;background:#137ebc;box-shadow:0px 1px 1px 0px rgba(142,184,208,0.5),inset 0px 0px 0px 1px rgba(125,172,200,0.5);}#btn_1_a601c8dde44a1f91fa87da3dd69eb140 .gradient {-moz-border-radius:6px;-webkit-border-radius:6px;border-radius:6px;}#btn_1_a601c8dde44a1f91fa87da3dd69eb140 .shine {-moz-border-radius:6px;-webkit-border-radius:6px;border-radius:6px;}#btn_1_a601c8dde44a1f91fa87da3dd69eb140 .active {-moz-border-radius:6px;-webkit-border-radius:6px;border-radius:6px;}#btn_1_a601c8dde44a1f91fa87da3dd69eb140 .hover {-moz-border-radius:6px;-webkit-border-radius:6px;border-radius:6px;}</style><a href=\"http://quotes.com/publishers/\" id=\"btn_1_a601c8dde44a1f91fa87da3dd69eb140\" class=\"css-button style-1\"><span class=\"text\">Publishers</span><span class=\"subtext\">Better Monetization</span><span class=\"gradient\"></span><span class=\"shine\"></span><span class=\"hover\"></span><span class=\"active\"></span></a></div>\\n </div></div></div>\\n\\t\\t\\t\\t\\t\\t<div class=\"one-half column cols\" id=\"le_body_row_3_col_2\"><div class=\"element-container cf\" data-style=\"\" id=\"le_body_row_3_col_2_el_1\"><div class=\"element\"> <div class=\"op-text-block\" style=\"width:100%;text-align: left;\"><p><H2><center>Get high quality traffic that converts.</center></H2></p>\\n</div>\\n </div></div><div class=\"element-container cf\" data-style=\"\" id=\"le_body_row_3_col_2_el_2\"><div class=\"element\"> <div style=\"text-align:center\"><style type=\"text/css\">#btn_1_6dd93273a88c97ec240f222990282d58 .text {font-size:32px;color:#000000;font-family:Source Sans Pro;font-weight:bold;text-shadow:#ffff00 0px 1px 0px;}#btn_1_6dd93273a88c97ec240f222990282d58 .subtext {font-size:20px;color:#000000;font-weight:normal;text-shadow:#ffff00 0px 1px 0px;}#btn_1_6dd93273a88c97ec240f222990282d58 {padding:25px 50px;border-color:#000000;border-width:1px;-moz-border-radius:6px;-webkit-border-radius:6px;border-radius:6px;background:#ffff00;background:-webkit-gradient(linear, left top, left bottom, color-stop(0%, #ffff00), color-stop(100%, #ffa035));background:-webkit-linear-gradient(top, #ffff00 0%, #ffa035 100%);background:-moz-linear-gradient(top, #ffff00 0%, #ffa035 100%);background:-ms-linear-gradient(top, #ffff00 0%, #ffa035 100%);background:-o-linear-gradient(top, #ffff00 0%, #ffa035 100%);background:linear-gradient(to bottom, #ffff00 0%, #ffa035 100%);filter:progid:DXImageTransform.Microsoft.gradient(startColorstr=#ffff00, endColorstr=#ffa035, GradientType=0);box-shadow:0px 1px 1px 0px rgba(0,0,0,0.5),inset 0px 0px 0px 1px rgba(255,255,0,0.5);}#btn_1_6dd93273a88c97ec240f222990282d58 .gradient {-moz-border-radius:6px;-webkit-border-radius:6px;border-radius:6px;}#btn_1_6dd93273a88c97ec240f222990282d58 .shine {-moz-border-radius:6px;-webkit-border-radius:6px;border-radius:6px;}#btn_1_6dd93273a88c97ec240f222990282d58 .active {-moz-border-radius:6px;-webkit-border-radius:6px;border-radius:6px;}#btn_1_6dd93273a88c97ec240f222990282d58 .hover {-moz-border-radius:6px;-webkit-border-radius:6px;border-radius:6px;}</style><a href=\"http://quotes.com/advertisers_mainpage/\" id=\"btn_1_6dd93273a88c97ec240f222990282d58\" class=\"css-button style-1\"><span class=\"text\">Advertisers</span><span class=\"subtext\">More Customers</span><span class=\"shine\"></span><span class=\"hover\"></span><span class=\"active\"></span></a></div>\\n </div></div></div></div></div></div>\\t\\t<div class=\"full-width footer small-footer-text\">\\n        \\t\\t\\t\\t<div class=\"row\">\\n\\t\\t\\t\\t<div class=\"fixed-width\">\\n\\t\\t\\t\\t\\n\\t\\t\\t\\t\\t\\t<style>\\n\\t\\t\\t\\t\\t\\t\\t.footer-navigation ul li a,\\n\\t\\t\\t\\t\\t\\t\\t.footer-navigation ul li a:hover{\\n\\t\\t\\t\\t\\t\\t\\t\\tfont-family: \"Source Sans Pro\", sans-serif;font-size: 13px;\\n\\t\\t\\t\\t\\t\\t\\t}\\n\\n\\t\\t\\t\\t\\t\\t\\t.footer,\\n\\t\\t\\t\\t\\t\\t\\t.footer p,\\n\\t\\t\\t\\t\\t\\t\\t.op-promote a,\\n\\t\\t\\t\\t\\t\\t\\t.footer .footer-copyright,\\n\\t\\t\\t\\t\\t\\t\\t.footer .footer-disclaimer{\\n\\t\\t\\t\\t\\t\\t\\t\\tfont-family: \"Source Sans Pro\", sans-serif;\\n\\t\\t\\t\\t\\t\\t\\t}\\n\\n\\t\\t\\t\\t\\t\\t\\t.footer p{ font-size: 13px; }\\n\\t\\t\\t\\t\\t\\t</style>\\n\\t\\t\\t\\t\\t\\n\\t\\t\\t\\t\\t\\t<nav class=\"footer-navigation\">\\n\\t\\t\\t\\t\\t\\t\\t<ul id=\"nav-footer\" class=\"inline-nav\">\\n\\t\\t\\t\\t\\t\\t\\t\\t<li class=\"menu-item menu-item-type-post_type menu-item-object-page current-menu-item page_item page-item-110 current_page_item menu-item-123\"><a href=\"https://quotes.com/\">Home</a></li>\\n<li class=\"menu-item menu-item-type-post_type menu-item-object-page menu-item-124\"><a href=\"https://quotes.com/advertisers_mainpage/\">Advertisers</a></li>\\n<li class=\"menu-item menu-item-type-post_type menu-item-object-page menu-item-130\"><a href=\"https://quotes.com/publishers/\">Publishers</a></li>\\n<li class=\"menu-item menu-item-type-post_type menu-item-object-page menu-item-144\"><a href=\"https://quotes.com/about-us/\">About Us</a></li>\\n\\n\\t\\t\\t\\t\\t\\t\\t</ul>\\n\\t\\t\\t\\t\\t\\t</nav>\\n\\t\\t\\t\\t\\t<p class=\"footer-copyright\">Copyright 2014 - Quotes.com Bringing Advertisers and Publishers together</p>\\t\\t\\t\\t</div>\\n\\t\\t\\t</div>\\n\\t\\t</div>\\n        \\t</div><!-- container -->\\n\\n<link href=\"https://fonts.googleapis.com/css?family=Source Sans Pro:300,r,i,b,bi\" rel=\"stylesheet\" type=\"text/css\" /><link rel=\\'stylesheet\\' id=\\'optimizepress-fancybox-css\\'  href=\\'https://quotes.com/wp-content/themes/optimizePressTheme/lib/js/fancybox/jquery.fancybox.min.css?ver=2.1.8.1\\' type=\\'text/css\\' media=\\'all\\' />\\n<script type=\\'text/javascript\\' src=\\'https://quotes.com/wp-content/themes/optimizePressTheme/lib/js/jquery/jquery.placeholder.min.js?ver=2.1.8.1\\'></script>\\n<script type=\\'text/javascript\\' src=\\'https://quotes.com/wp-content/themes/optimizePressTheme/lib/js/fancybox/jquery.fancybox.pack.min.js?ver=2.1.8.1\\'></script>\\n<script type=\\'text/javascript\\' src=\\'https://quotes.com/wp-includes/js/comment-reply.min.js?ver=3.9.2\\'></script>\\n<script type=\\'text/javascript\\' src=\\'https://quotes.com/wp-content/themes/optimizePressTheme/lib/js/menus.min.js?ver=2.1.8.1\\'></script>\\n<script type=\\'text/javascript\\' src=\\'https://quotes.com/wp-content/themes/optimizePressTheme/lib/js/tooltipster.min.js?ver=2.1.8.1\\'></script>\\n<script type=\\'text/javascript\\' src=\\'https://quotes.com/wp-content/themes/optimizePressTheme/lib/js/selectnav.min.js?ver=2.1.8.1\\'></script>\\n<script type=\\'text/javascript\\' src=\\'https://quotes.com/wp-content/themes/optimizePressTheme/lib/js/dropkick.min.js?ver=2.1.8.1\\'></script>\\n<script type=\\'text/javascript\\' src=\\'https://quotes.com/wp-content/themes/optimizePressTheme/lib/js/jquery/jquery-ui-1.10.3.custom.min.js?ver=2.1.8.1\\'></script>\\n<script type=\\'text/javascript\\' src=\\'https://quotes.com/wp-content/themes/optimizePressTheme/lib/js/jquery/jquery.sharrre-1.3.4.min.js?ver=2.1.8.1\\'></script>\\n<script type=\\'text/javascript\\' src=\\'https://quotes.com/wp-content/themes/optimizePressTheme/lib/js/jquery/jquery.reveal.min.js?ver=2.1.8.1\\'></script>\\n<script type=\\'text/javascript\\' src=\\'https://quotes.com/wp-content/themes/optimizePressTheme/lib/js/jquery/countdown.min.js?ver=2.1.8.1\\'></script>\\n<script type=\\'text/javascript\\' src=\\'https://quotes.com/wp-content/themes/optimizePressTheme/lib/js/global.min.js?ver=2.1.8.1\\'></script>\\n</body>\\n</html>\\r\\n<!-- Performance optimized by W3 Total Cache. Learn more: http://www.w3-edge.com/wordpress-plugins/\\r\\n\\r\\n Served from: dmpro-quotes.cogini.com @ 2015-12-24 04:05:21 by W3 Total Cache -->'\n"
     ]
    }
   ],
   "source": [
    "print(data)"
   ]
  },
  {
   "cell_type": "code",
   "execution_count": 9,
   "metadata": {
    "collapsed": false
   },
   "outputs": [
    {
     "data": {
      "text/plain": [
       "200"
      ]
     },
     "execution_count": 9,
     "metadata": {},
     "output_type": "execute_result"
    }
   ],
   "source": [
    "conn.status"
   ]
  },
  {
   "cell_type": "code",
   "execution_count": 10,
   "metadata": {
    "collapsed": false
   },
   "outputs": [
    {
     "data": {
      "text/plain": [
       "'text/html; charset=UTF-8'"
      ]
     },
     "execution_count": 10,
     "metadata": {},
     "output_type": "execute_result"
    }
   ],
   "source": [
    "conn.getheader('Content-Type')"
   ]
  },
  {
   "cell_type": "code",
   "execution_count": 11,
   "metadata": {
    "collapsed": false
   },
   "outputs": [
    {
     "name": "stdout",
     "output_type": "stream",
     "text": [
      "Server AND nginx/1.0.15\n",
      "Date AND Thu, 24 Dec 2015 04:05:21 GMT\n",
      "Content-Type AND text/html; charset=UTF-8\n",
      "Transfer-Encoding AND chunked\n",
      "Connection AND close\n",
      "Expires AND Wed, 11 Jan 1984 05:00:00 GMT\n",
      "Cache-Control AND no-cache, must-revalidate, max-age=0\n",
      "Pragma AND no-cache\n",
      "X-Pingback AND https://quotes.com/xmlrpc.php\n",
      "Link AND <https://quotes.com/>; rel=shortlink\n"
     ]
    }
   ],
   "source": [
    "for key, value in conn.getheaders():\n",
    "    print(key, \"AND\", value)"
   ]
  },
  {
   "cell_type": "code",
   "execution_count": 18,
   "metadata": {
    "collapsed": false
   },
   "outputs": [],
   "source": [
    "import requests"
   ]
  },
  {
   "cell_type": "code",
   "execution_count": 19,
   "metadata": {
    "collapsed": true
   },
   "outputs": [],
   "source": [
    "resp = requests.get(url)"
   ]
  },
  {
   "cell_type": "code",
   "execution_count": 20,
   "metadata": {
    "collapsed": false
   },
   "outputs": [
    {
     "data": {
      "text/plain": [
       "<Response [200]>"
      ]
     },
     "execution_count": 20,
     "metadata": {},
     "output_type": "execute_result"
    }
   ],
   "source": [
    "resp"
   ]
  },
  {
   "cell_type": "code",
   "execution_count": 21,
   "metadata": {
    "collapsed": false
   },
   "outputs": [
    {
     "name": "stdout",
     "output_type": "stream",
     "text": [
      "<!DOCTYPE html>\n",
      "<!--[if lt IE 7 ]><html class=\"ie ie6\" lang=\"en-US\"> <![endif]-->\n",
      "<!--[if IE 7 ]><html class=\"ie ie7\" lang=\"en-US\"> <![endif]-->\n",
      "<!--[if IE 8 ]><html class=\"ie ie8\" lang=\"en-US\"> <![endif]-->\n",
      "<!--[if (gte IE 9)|!(IE)]><!--><html lang=\"en-US\"> <!--<![endif]-->\n",
      "<head>\n",
      "<meta http-equiv=\"Content-Type\" content=\"text/html; charset=UTF-8\" />\n",
      "<link rel=\"profile\" href=\"http://gmpg.org/xfn/11\" />\n",
      "<meta name=\"viewport\" content=\"width=device-width, initial-scale=1, maximum-scale=1\" />\n",
      "<link rel=\"pingback\" href=\"https://quotes.com/xmlrpc.php\" />\n",
      "<!-- OptimizePress SEO options -->\n",
      "<title></title>\n",
      "<meta property=\"og:title\" content=\"\" />\n",
      "<!-- OptimizePress SEO options end -->\n",
      "<link rel=\"alternate\" type=\"application/rss+xml\" title=\"Bringing Advertisers and Publishers Together &raquo; Feed\" href=\"https://quotes.com/feed/\" />\n",
      "<link rel=\"alternate\" type=\"application/rss+xml\" title=\"Bringing Advertisers and Publishers Together &raquo; Comments Feed\" href=\"https://quotes.com/comments/feed/\" />\n",
      "<link rel=\"alternate\" type=\"application/rss+xml\" title=\"Bringing Advertisers and Publishers Together &raquo; Home Comments Feed\" href=\"https://quotes.com/home-page/feed/\" />\n",
      "<link rel='stylesheet' id='js_composer_custom_css-css'  href='http://quotes.com/wp-content/uploads/js_composer/custom.css?ver=4.3.3' type='text/css' media='screen' />\n",
      "<link rel='stylesheet' id='optimizepress-wp-css'  href='https://quotes.com/wp-content/themes/optimizePressTheme/lib/css/wp.css?ver=2.1.8.1' type='text/css' media='all' />\n",
      "<link rel='stylesheet' id='optimizepress-page-style-css'  href='https://quotes.com/wp-content/themes/optimizePressTheme/pages/marketing/1/style.min.css?ver=2.1.8.1' type='text/css' media='all' />\n",
      "<link rel='stylesheet' id='optimizepress-default-css'  href='https://quotes.com/wp-content/themes/optimizePressTheme/lib/assets/default.min.css?ver=2.1.8.1' type='text/css' media='all' />\n",
      "<link rel='stylesheet' id='ws-plugin--optimizemember-css'  href='https://quotes.com/wp-content/plugins/optimizeMember/optimizeMember-o.php?ws_plugin__optimizemember_css=1&#038;qcABC=1&#038;ver=1.0.10-1.0.10-1148439503' type='text/css' media='all' />\n",
      "<script type='text/javascript' src='https://quotes.com/wp-includes/js/jquery/jquery.js?ver=1.11.0'></script>\n",
      "<script type='text/javascript' src='https://quotes.com/wp-includes/js/jquery/jquery-migrate.min.js?ver=1.2.1'></script>\n",
      "<script type='text/javascript' src='https://quotes.com/wp-content/themes/optimizePressTheme/lib/js/jquery/jquery.noconflict.min.js?ver=2.1.8.1'></script>\n",
      "<script type='text/javascript' src='https://quotes.com/wp-content/themes/optimizePressTheme/lib/js/jquery/jquery.loadScript.min.js?ver=2.1.8.1'></script>\n",
      "<script type='text/javascript'>\n",
      "/* <![CDATA[ */\n",
      "var _zxcvbnSettings = {\"src\":\"https:\\/\\/quotes.com\\/wp-includes\\/js\\/zxcvbn.min.js\"};\n",
      "/* ]]> */\n",
      "</script>\n",
      "<script type='text/javascript' src='https://quotes.com/wp-includes/js/zxcvbn-async.min.js?ver=1.0'></script>\n",
      "<script type='text/javascript'>\n",
      "/* <![CDATA[ */\n",
      "var pwsL10n = {\"empty\":\"Strength indicator\",\"short\":\"Very weak\",\"bad\":\"Weak\",\"good\":\"Medium\",\"strong\":\"Strong\",\"mismatch\":\"Mismatch\"};\n",
      "/* ]]> */\n",
      "</script>\n",
      "<script type='text/javascript' src='https://quotes.com/wp-admin/js/password-strength-meter.min.js?ver=3.9.2'></script>\n",
      "<script type='text/javascript' src='https://quotes.com/wp-content/plugins/optimizeMember/optimizeMember-o.php?ws_plugin__optimizemember_js_w_globals=1&#038;qcABC=1&#038;ver=1.0.10-1.0.10-1148439503'></script>\n",
      "<link rel=\"EditURI\" type=\"application/rsd+xml\" title=\"RSD\" href=\"https://quotes.com/xmlrpc.php?rsd\" />\n",
      "<link rel=\"wlwmanifest\" type=\"application/wlwmanifest+xml\" href=\"https://quotes.com/wp-includes/wlwmanifest.xml\" /> \n",
      "<meta name=\"generator\" content=\"WordPress 3.9.2\" />\n",
      "<link rel='canonical' href='https://quotes.com/' />\n",
      "<link rel='shortlink' href='https://quotes.com/' />\n",
      "<script type=\"text/javascript\">OP = (typeof(OP)==\"undefined\" ? {\"flowplayerHTML5\":\"https:\\/\\/quotes.com\\/wp-content\\/themes\\/optimizePressTheme\\/lib\\/modules\\/blog\\/video\\/flowplayerHTML5\\/flowplayer.swf\",\"flowplayerKey\":\"\",\"flowplayerLogo\":\"\",\"flowplayer\":\"https:\\/\\/quotes.com\\/wp-content\\/themes\\/optimizePressTheme\\/lib\\/modules\\/blog\\/video\\/flowplayer\\/flowplayer-3.2.7.swf\",\"flowplayer_control\":\"https:\\/\\/quotes.com\\/wp-content\\/themes\\/optimizePressTheme\\/lib\\/modules\\/blog\\/video\\/flowplayer\\/flowplayer.controls-3.2.5.swf\",\"mediaelementplayer\":\"https:\\/\\/quotes.com\\/wp-content\\/themes\\/optimizePressTheme\\/lib\\/modules\\/blog\\/video\\/mediaelement\\/\",\"SN\":\"optimizepress\",\"paths\":{\"url\":\"https:\\/\\/quotes.com\\/wp-content\\/themes\\/optimizePressTheme\\/\",\"img\":\"https:\\/\\/quotes.com\\/wp-content\\/themes\\/optimizePressTheme\\/lib\\/images\\/\",\"js\":\"https:\\/\\/quotes.com\\/wp-content\\/themes\\/optimizePressTheme\\/lib\\/js\\/\",\"css\":\"https:\\/\\/quotes.com\\/wp-content\\/themes\\/optimizePressTheme\\/lib\\/css\\/\"},\"social\":{\"twitter\":\"optimizepress\",\"facebook\":\"optimizepress\",\"googleplus\":\"111273444733787349971\"}} : OP);</script>\n",
      "\t\t<!--[if (gte IE 6)&(lte IE 8)]>\n",
      "\t\t<script type=\"text/javascript\" src=\"https://quotes.com/wp-content/themes/optimizePressTheme/lib/js/selectivizr-1.0.2-min.js?ver=1.0.2\"></script>\n",
      "\t\t<![endif]-->\n",
      "\t\t<!--[if IE]><script src=\"http://html5shiv.googlecode.com/svn/trunk/html5.js\"></script><![endif]-->\n",
      "\t\n",
      "<style type=\"text/css\" id=\"op_header_css\">\n",
      "p, .single-post-content li,#content_area li{font-size:17px;font-family:\"Source Sans Pro\", sans-serif;color:#444}a, blockquote{font-family:\"Source Sans Pro\", sans-serif}h1,.main-content h1,.single-post-content h1,.full-width.featured-panel h1,.latest-post h1.the-title{font-family:\"Source Sans Pro\", sans-serif}h2,.main-content h2,.single-post-content h2,.op-page-header h2,.featured-panel h2,.featured-posts .post-content h2,.featured-posts .post-content h2 a,.latest-post h2 a{font-style:normal;font-weight:300;font-family:\"Open Sans\", sans-serif}.footer{background: #212121;background: -moz-linear-gradient(top, #212121 0%, #212121 100%);background: -webkit-gradient(linear, left top, left bottom, color-stop(0%,#212121), color-stop(100%,#212121));background: -webkit-linear-gradient(top, #212121 0%,#212121 100%);background: -o-linear-gradient(top, #212121 0%,#212121 100%);background: -ms-linear-gradient(top, #212121 0%,#212121 100%);background: linear-gradient(top, #212121 0%,#212121 100%));filter: progid:DXImageTransform.Microsoft.gradient( startColorstr='#212121', endColorstr='#212121',GradientType=0 )}.footer-navigation ul li a{color:#dbdbdb}.footer-navigation ul li a:hover{color:#dbdbdb}.footer p{color:#dbdbdb}.footer h1{color:#dbdbdb}.footer h2{color:#dbdbdb}.footer h3{color:#dbdbdb}.footer h4{color:#dbdbdb}.footer h5{color:#dbdbdb}.footer h6{color:#dbdbdb}.footer a{color:#dbdbdb}.footer a:hover{color:#dbdbdb}.footer small.footer-copyright{color:#dbdbdb}.footer small.footer-copyright a{color:#dbdbdb}.footer small.footer-copyright a:hover{color:#dbdbdb}.footer small.footer-disclaimer{color:#dbdbdb}.footer small.footer-disclaimer a{color:#dbdbdb}.footer small.footer-disclaimer a:hover{color:#dbdbdb}\n",
      "</style>\n",
      "<meta name=\"generator\" content=\"Powered by Visual Composer - drag and drop page builder for WordPress.\"/>\n",
      "<style type=\"text/css\">.banner .logo img{width:200px}</style>\n",
      "<link href=\"https://fonts.googleapis.com/css?family=Source Sans Pro:300,r,i,b,bi|Open Sans:300,r,b,i,bi\" rel=\"stylesheet\" type=\"text/css\" /></head>\n",
      "<body class=\"home page page-id-110 page-template-default op-live-editor-page op-theme wpb-js-composer js-comp-ver-4.3.3 vc_responsive\">\n",
      "\t<div class=\"container main-content\">\n",
      "\t\t\t\t<div class=\"banner include-nav\" style=\"background-color:#ffffff\">\n",
      "\t\t\t<div class=\"fixed-width cf\">\n",
      "            \t\t\t\t\t<div class=\"eight columns\">\n",
      "\t\t\t\t\t<h1 class=\"op-logo\"><a href=\"http://quotes.com/\" title=\"Bringing Advertisers and Publishers Together\" rel=\"home\"><img src=\"http://quotes.com/wp-content/uploads/2014/09/logo.png\" alt=\"Bringing Advertisers and Publishers Together\" /></a></h1>\t\t\t\t</div>\n",
      "\t\t\t\t\t\t\t</div>\n",
      "\t\t</div>\n",
      "\t\t\t\t<div class=\"nav-bar-below op-page-header cf\">\n",
      "\t\t\t<div class=\"fixed-width\">\n",
      "\t\t\t\t<div class=\"twentyfour columns\">\n",
      "                \t\n",
      "\t\t\t\t\t\t\t<style>\n",
      "\t\t\t\t\t\t\t\t.op-page-header .navigation #navigation-below a{\n",
      "\t\t\t\t\t\t\t\t\t\n",
      "\t\t\t\t\t\t\t\t}\n",
      "\t\t\t\t\t\t\t</style>\n",
      "\t\t\t\t\t\t\n",
      "\t\t\t\t\t<nav class=\"navigation\">\n",
      "\t\t\t\t\t\t<ul id=\"navigation-below\"><li id=\"menu-item-123\" class=\"menu-item menu-item-type-post_type menu-item-object-page current-menu-item page_item page-item-110 current_page_item menu-item-123\"><a href=\"https://quotes.com/\">Home</a></li>\n",
      "<li id=\"menu-item-124\" class=\"menu-item menu-item-type-post_type menu-item-object-page menu-item-124\"><a href=\"https://quotes.com/advertisers_mainpage/\">Advertisers</a></li>\n",
      "<li id=\"menu-item-130\" class=\"menu-item menu-item-type-post_type menu-item-object-page menu-item-130\"><a href=\"https://quotes.com/publishers/\">Publishers</a></li>\n",
      "<li id=\"menu-item-144\" class=\"menu-item menu-item-type-post_type menu-item-object-page menu-item-144\"><a href=\"https://quotes.com/about-us/\">About Us</a></li>\n",
      "\n",
      "\t\t\t\t\t\t</ul>\n",
      "\t\t\t\t\t</nav>\t\t\t\t</div>\n",
      "\t\t\t</div>\n",
      "\t\t</div>\n",
      "        <div id=\"content_area\" class=\"\">\n",
      "\t\t\t\t\t<div style='background:#ffffff;padding-top:40px;padding-bottom:0px;'  class=\"row one-column cf ui-sortable section\" id=\"le_body_row_1\" data-style=\"eyJiYWNrZ3JvdW5kQ29sb3JTdGFydCI6IiNmZmZmZmYiLCJwYWRkaW5nVG9wIjoiNDAiLCJwYWRkaW5nQm90dG9tIjoiMCJ9\"><div class=\"fixed-width\">\n",
      "\t\t\t\t\t\t<div class=\"one-column column cols\" id=\"le_body_row_1_col_1\"><div class=\"element-container cf\" data-style=\"\" id=\"le_body_row_1_col_1_el_1\"><div class=\"element\"> <h2 style='font-size:40px;font-weight:bold;color:#101114;text-shadow:1px 1px 0px #000;text-shadow:1px 1px 0px rgba(0,0,0,0.5);text-align:center;'><h1><center>Bringing Advertisers and Publishers together</center></h1>\n",
      "</h2>\n",
      " </div></div><div class=\"element-container cf\" data-style=\"\" id=\"le_body_row_1_col_1_el_2\"><div class=\"element\"> <h2 style='font-size:26px;color:#101114;text-shadow:1px 1px 0px #000;text-shadow:1px 1px 0px rgba(0,0,0,0.5);text-align:center;'>Marketing for Direct Navigation Traffic</h2>\n",
      " </div></div><div class=\"element-container cf\" data-style=\"\" id=\"le_body_row_1_col_1_el_3\"><div class=\"element\"> \n",
      "\t\t\t\t<div class=\"image-caption\" style='width:691px;margin-top:5px;margin-bottom:50px;margin-right:auto;margin-left:auto;'>\n",
      "\t\t\t\t\t<img alt=\"\" src=\"http://www.culha.org/wp-content/uploads/2014/09/quotes_home_cloud-e1409906134544.jpg\" border=\"0\" class=\"full-width\" />\n",
      "\t\t\t\t</div>\n",
      "\t\t\t\n",
      " </div></div><div class=\"element-container cf\" data-style=\"\" id=\"le_body_row_1_col_1_el_4\"><div class=\"element\"> <p style=\"text-align:center\"><a href=\"quotes.com/latest-news/\" style='font-size:30px;font-weight:bold;text-shadow:1px 1px 0px #fff;text-shadow:1px 1px 0px rgba(255,255,255,0.5);'>Quotes.com launches our new branding</a></p>\n",
      " </div></div></div></div></div>\n",
      "\t\t\t\t\t<div style='padding-bottom:0px;'  class=\"row one-column cf ui-sortable section\" id=\"le_body_row_2\" data-style=\"eyJwYWRkaW5nQm90dG9tIjoiMCJ9\"><div class=\"fixed-width\">\n",
      "\t\t\t\t\t\t<div class=\"one-column column cols\" id=\"le_body_row_2_col_1\"><div class=\"element-container cf\" data-style=\"\" id=\"le_body_row_2_col_1_el_1\"><div class=\"element\"> <ul class=\"feature-block feature-block-style-4 feature-block-three-col cf\">\n",
      "\t\t\t\t\t<li>\n",
      "\t\t\t\t\t\t<div>\n",
      "\t\t\t\t\t\t\t<span style=\"background-color: #0194e3;\"><img class=\"feature-block-4\" src=\"https://quotes.com/wp-content/themes/optimizePressTheme/lib/assets/images/feature_block/icons/241-alt.png\" /></span><h2>High Quality Domain Traffic</h2><p>Targeted, high quality traffic means more conversions.</p>\n",
      "\n",
      "\t\t\t\t\t\t</div>\n",
      "\t\t\t\t\t</li>\n",
      "\t\t\t\t \n",
      "\t\t\t\t\t<li>\n",
      "\t\t\t\t\t\t<div>\n",
      "\t\t\t\t\t\t\t<span style=\"background-color: #0194e3;\"><img class=\"feature-block-4\" src=\"https://quotes.com/wp-content/themes/optimizePressTheme/lib/assets/images/feature_block/icons/242-alt.png\" /></span><h2>Direct to Advertizers</h2><p>Direct to Advertizer monetization means higher RPMs.</p>\n",
      "\n",
      "\t\t\t\t\t\t</div>\n",
      "\t\t\t\t\t</li>\n",
      "\t\t\t\t \n",
      "\t\t\t\t\t<li>\n",
      "\t\t\t\t\t\t<div>\n",
      "\t\t\t\t\t\t\t<span style=\"background-color: #0194e3;\"><img class=\"feature-block-4\" src=\"https://quotes.com/wp-content/themes/optimizePressTheme/lib/assets/images/feature_block/icons/232-alt.png\" /></span><h2>Our New Mobile Stream</h2><p>Monetize highly targeted mobile device traffic.</p>\n",
      "\n",
      "\t\t\t\t\t\t</div>\n",
      "\t\t\t\t\t</li>\n",
      "\t\t\t\t </ul>\n",
      " </div></div><div class=\"element-container cf\" data-style=\"\" id=\"le_body_row_2_col_1_el_2\"><div class=\"element\"> <div class=\"styled-hr hr-style-4\"><hr /></div>\n",
      " </div></div><div class=\"element-container cf\" data-style=\"\" id=\"le_body_row_2_col_1_el_3\"><div class=\"element\"> \n",
      "<div id=\"aca6ce6f8870b63c42c067e922926068\" class=\"feature-box-creator feature-box-creator-style-1\" style=\" width: 940px;\">\n",
      "    <div class=\"feature-box-content cf\">\n",
      "<div class=\"row element-container cf \" ><div class=\"op-text-block\" style=\"width:100%;text-align: left;\"><h2><strong><center>Latest News</center></strong></h2>\n",
      "<p>Quotes.com Advertiser API has been released. After 3 months of development and testing our Advertiser API is live. Please contact your account manager for more information and the implementation guide.</p>\n",
      "</div></div>\n",
      "\n",
      "</div>\n",
      "</div>\n",
      " </div></div><div class=\"element-container cf\" data-style=\"\" id=\"le_body_row_2_col_1_el_4\"><div class=\"element\"> <div class=\"styled-hr hr-style-4\"><hr /></div>\n",
      " </div></div></div></div></div>\n",
      "\t\t\t\t\t<div style='padding-top:0px;padding-bottom:50px;'  class=\"row two-columns cf ui-sortable\" id=\"le_body_row_3\" data-style=\"eyJwYWRkaW5nVG9wIjoiMCIsInBhZGRpbmdCb3R0b20iOiI1MCJ9\"><div class=\"fixed-width\">\n",
      "\t\t\t\t\t\t<div class=\"one-half column cols\" id=\"le_body_row_3_col_1\"><div class=\"element-container cf\" data-style=\"\" id=\"le_body_row_3_col_1_el_1\"><div class=\"element\"> <div class=\"op-text-block\" style=\"width:100%;text-align: left;\"><p><H2><center>Monetize your traffic by going direct to advertisers.</center></H2></p>\n",
      "</div>\n",
      " </div></div><div class=\"element-container cf\" data-style=\"\" id=\"le_body_row_3_col_1_el_2\"><div class=\"element\"> <div style=\"text-align:center\"><style type=\"text/css\">#btn_1_a601c8dde44a1f91fa87da3dd69eb140 .text {font-size:32px;color:#000000;font-family:Source Sans Pro;font-weight:bold;text-shadow:#25546f 0px 1px 0px;}#btn_1_a601c8dde44a1f91fa87da3dd69eb140 .subtext {font-size:20px;color:#000000;font-weight:normal;text-shadow:#25546f 0px 1px 0px;}#btn_1_a601c8dde44a1f91fa87da3dd69eb140 {padding:25px 50px;border-color:#517183;border-width:1px;-moz-border-radius:6px;-webkit-border-radius:6px;border-radius:6px;background:#137ebc;box-shadow:0px 1px 1px 0px rgba(142,184,208,0.5),inset 0px 0px 0px 1px rgba(125,172,200,0.5);}#btn_1_a601c8dde44a1f91fa87da3dd69eb140 .gradient {-moz-border-radius:6px;-webkit-border-radius:6px;border-radius:6px;}#btn_1_a601c8dde44a1f91fa87da3dd69eb140 .shine {-moz-border-radius:6px;-webkit-border-radius:6px;border-radius:6px;}#btn_1_a601c8dde44a1f91fa87da3dd69eb140 .active {-moz-border-radius:6px;-webkit-border-radius:6px;border-radius:6px;}#btn_1_a601c8dde44a1f91fa87da3dd69eb140 .hover {-moz-border-radius:6px;-webkit-border-radius:6px;border-radius:6px;}</style><a href=\"http://quotes.com/publishers/\" id=\"btn_1_a601c8dde44a1f91fa87da3dd69eb140\" class=\"css-button style-1\"><span class=\"text\">Publishers</span><span class=\"subtext\">Better Monetization</span><span class=\"gradient\"></span><span class=\"shine\"></span><span class=\"hover\"></span><span class=\"active\"></span></a></div>\n",
      " </div></div></div>\n",
      "\t\t\t\t\t\t<div class=\"one-half column cols\" id=\"le_body_row_3_col_2\"><div class=\"element-container cf\" data-style=\"\" id=\"le_body_row_3_col_2_el_1\"><div class=\"element\"> <div class=\"op-text-block\" style=\"width:100%;text-align: left;\"><p><H2><center>Get high quality traffic that converts.</center></H2></p>\n",
      "</div>\n",
      " </div></div><div class=\"element-container cf\" data-style=\"\" id=\"le_body_row_3_col_2_el_2\"><div class=\"element\"> <div style=\"text-align:center\"><style type=\"text/css\">#btn_1_6dd93273a88c97ec240f222990282d58 .text {font-size:32px;color:#000000;font-family:Source Sans Pro;font-weight:bold;text-shadow:#ffff00 0px 1px 0px;}#btn_1_6dd93273a88c97ec240f222990282d58 .subtext {font-size:20px;color:#000000;font-weight:normal;text-shadow:#ffff00 0px 1px 0px;}#btn_1_6dd93273a88c97ec240f222990282d58 {padding:25px 50px;border-color:#000000;border-width:1px;-moz-border-radius:6px;-webkit-border-radius:6px;border-radius:6px;background:#ffff00;background:-webkit-gradient(linear, left top, left bottom, color-stop(0%, #ffff00), color-stop(100%, #ffa035));background:-webkit-linear-gradient(top, #ffff00 0%, #ffa035 100%);background:-moz-linear-gradient(top, #ffff00 0%, #ffa035 100%);background:-ms-linear-gradient(top, #ffff00 0%, #ffa035 100%);background:-o-linear-gradient(top, #ffff00 0%, #ffa035 100%);background:linear-gradient(to bottom, #ffff00 0%, #ffa035 100%);filter:progid:DXImageTransform.Microsoft.gradient(startColorstr=#ffff00, endColorstr=#ffa035, GradientType=0);box-shadow:0px 1px 1px 0px rgba(0,0,0,0.5),inset 0px 0px 0px 1px rgba(255,255,0,0.5);}#btn_1_6dd93273a88c97ec240f222990282d58 .gradient {-moz-border-radius:6px;-webkit-border-radius:6px;border-radius:6px;}#btn_1_6dd93273a88c97ec240f222990282d58 .shine {-moz-border-radius:6px;-webkit-border-radius:6px;border-radius:6px;}#btn_1_6dd93273a88c97ec240f222990282d58 .active {-moz-border-radius:6px;-webkit-border-radius:6px;border-radius:6px;}#btn_1_6dd93273a88c97ec240f222990282d58 .hover {-moz-border-radius:6px;-webkit-border-radius:6px;border-radius:6px;}</style><a href=\"http://quotes.com/advertisers_mainpage/\" id=\"btn_1_6dd93273a88c97ec240f222990282d58\" class=\"css-button style-1\"><span class=\"text\">Advertisers</span><span class=\"subtext\">More Customers</span><span class=\"shine\"></span><span class=\"hover\"></span><span class=\"active\"></span></a></div>\n",
      " </div></div></div></div></div></div>\t\t<div class=\"full-width footer small-footer-text\">\n",
      "        \t\t\t\t<div class=\"row\">\n",
      "\t\t\t\t<div class=\"fixed-width\">\n",
      "\t\t\t\t\n",
      "\t\t\t\t\t\t<style>\n",
      "\t\t\t\t\t\t\t.footer-navigation ul li a,\n",
      "\t\t\t\t\t\t\t.footer-navigation ul li a:hover{\n",
      "\t\t\t\t\t\t\t\tfont-family: \"Source Sans Pro\", sans-serif;font-size: 13px;\n",
      "\t\t\t\t\t\t\t}\n",
      "\n",
      "\t\t\t\t\t\t\t.footer,\n",
      "\t\t\t\t\t\t\t.footer p,\n",
      "\t\t\t\t\t\t\t.op-promote a,\n",
      "\t\t\t\t\t\t\t.footer .footer-copyright,\n",
      "\t\t\t\t\t\t\t.footer .footer-disclaimer{\n",
      "\t\t\t\t\t\t\t\tfont-family: \"Source Sans Pro\", sans-serif;\n",
      "\t\t\t\t\t\t\t}\n",
      "\n",
      "\t\t\t\t\t\t\t.footer p{ font-size: 13px; }\n",
      "\t\t\t\t\t\t</style>\n",
      "\t\t\t\t\t\n",
      "\t\t\t\t\t\t<nav class=\"footer-navigation\">\n",
      "\t\t\t\t\t\t\t<ul id=\"nav-footer\" class=\"inline-nav\">\n",
      "\t\t\t\t\t\t\t\t<li class=\"menu-item menu-item-type-post_type menu-item-object-page current-menu-item page_item page-item-110 current_page_item menu-item-123\"><a href=\"https://quotes.com/\">Home</a></li>\n",
      "<li class=\"menu-item menu-item-type-post_type menu-item-object-page menu-item-124\"><a href=\"https://quotes.com/advertisers_mainpage/\">Advertisers</a></li>\n",
      "<li class=\"menu-item menu-item-type-post_type menu-item-object-page menu-item-130\"><a href=\"https://quotes.com/publishers/\">Publishers</a></li>\n",
      "<li class=\"menu-item menu-item-type-post_type menu-item-object-page menu-item-144\"><a href=\"https://quotes.com/about-us/\">About Us</a></li>\n",
      "\n",
      "\t\t\t\t\t\t\t</ul>\n",
      "\t\t\t\t\t\t</nav>\n",
      "\t\t\t\t\t<p class=\"footer-copyright\">Copyright 2014 - Quotes.com Bringing Advertisers and Publishers together</p>\t\t\t\t</div>\n",
      "\t\t\t</div>\n",
      "\t\t</div>\n",
      "        \t</div><!-- container -->\n",
      "\n",
      "<link href=\"https://fonts.googleapis.com/css?family=Source Sans Pro:300,r,i,b,bi\" rel=\"stylesheet\" type=\"text/css\" /><link rel='stylesheet' id='optimizepress-fancybox-css'  href='https://quotes.com/wp-content/themes/optimizePressTheme/lib/js/fancybox/jquery.fancybox.min.css?ver=2.1.8.1' type='text/css' media='all' />\n",
      "<script type='text/javascript' src='https://quotes.com/wp-content/themes/optimizePressTheme/lib/js/jquery/jquery.placeholder.min.js?ver=2.1.8.1'></script>\n",
      "<script type='text/javascript' src='https://quotes.com/wp-content/themes/optimizePressTheme/lib/js/fancybox/jquery.fancybox.pack.min.js?ver=2.1.8.1'></script>\n",
      "<script type='text/javascript' src='https://quotes.com/wp-includes/js/comment-reply.min.js?ver=3.9.2'></script>\n",
      "<script type='text/javascript' src='https://quotes.com/wp-content/themes/optimizePressTheme/lib/js/menus.min.js?ver=2.1.8.1'></script>\n",
      "<script type='text/javascript' src='https://quotes.com/wp-content/themes/optimizePressTheme/lib/js/tooltipster.min.js?ver=2.1.8.1'></script>\n",
      "<script type='text/javascript' src='https://quotes.com/wp-content/themes/optimizePressTheme/lib/js/selectnav.min.js?ver=2.1.8.1'></script>\n",
      "<script type='text/javascript' src='https://quotes.com/wp-content/themes/optimizePressTheme/lib/js/dropkick.min.js?ver=2.1.8.1'></script>\n",
      "<script type='text/javascript' src='https://quotes.com/wp-content/themes/optimizePressTheme/lib/js/jquery/jquery-ui-1.10.3.custom.min.js?ver=2.1.8.1'></script>\n",
      "<script type='text/javascript' src='https://quotes.com/wp-content/themes/optimizePressTheme/lib/js/jquery/jquery.sharrre-1.3.4.min.js?ver=2.1.8.1'></script>\n",
      "<script type='text/javascript' src='https://quotes.com/wp-content/themes/optimizePressTheme/lib/js/jquery/jquery.reveal.min.js?ver=2.1.8.1'></script>\n",
      "<script type='text/javascript' src='https://quotes.com/wp-content/themes/optimizePressTheme/lib/js/jquery/countdown.min.js?ver=2.1.8.1'></script>\n",
      "<script type='text/javascript' src='https://quotes.com/wp-content/themes/optimizePressTheme/lib/js/global.min.js?ver=2.1.8.1'></script>\n",
      "</body>\n",
      "</html>\r\n",
      "<!-- Performance optimized by W3 Total Cache. Learn more: http://www.w3-edge.com/wordpress-plugins/\r\n",
      "\r\n",
      " Served from: dmpro-quotes.cogini.com @ 2015-12-24 04:13:44 by W3 Total Cache -->\n"
     ]
    }
   ],
   "source": [
    "print(resp.text)"
   ]
  },
  {
   "cell_type": "code",
   "execution_count": 22,
   "metadata": {
    "collapsed": true
   },
   "outputs": [],
   "source": [
    "import flask"
   ]
  },
  {
   "cell_type": "code",
   "execution_count": null,
   "metadata": {
    "collapsed": true
   },
   "outputs": [],
   "source": [
    "# flask and bottle examples are standalone Python files in"
   ]
  }
 ],
 "metadata": {
  "kernelspec": {
   "display_name": "Python 3",
   "language": "python",
   "name": "python3"
  },
  "language_info": {
   "codemirror_mode": {
    "name": "ipython",
    "version": 3
   },
   "file_extension": ".py",
   "mimetype": "text/x-python",
   "name": "python",
   "nbconvert_exporter": "python",
   "pygments_lexer": "ipython3",
   "version": "3.5.1"
  }
 },
 "nbformat": 4,
 "nbformat_minor": 0
}
