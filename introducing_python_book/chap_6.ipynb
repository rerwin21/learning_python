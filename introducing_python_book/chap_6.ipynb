{
 "cells": [
  {
   "cell_type": "markdown",
   "metadata": {},
   "source": [
    "# Objects and Classes"
   ]
  },
  {
   "cell_type": "code",
   "execution_count": 1,
   "metadata": {
    "collapsed": true
   },
   "outputs": [],
   "source": [
    "# first class\n",
    "class Person():\n",
    "    def __init__(self, name):\n",
    "        self.name = name"
   ]
  },
  {
   "cell_type": "code",
   "execution_count": 2,
   "metadata": {
    "collapsed": true
   },
   "outputs": [],
   "source": [
    "hunter = Person('Elmer Fudd')"
   ]
  },
  {
   "cell_type": "code",
   "execution_count": 5,
   "metadata": {
    "collapsed": false
   },
   "outputs": [
    {
     "name": "stdout",
     "output_type": "stream",
     "text": [
      "The mighty hunter:  Elmer Fudd\n"
     ]
    }
   ],
   "source": [
    "print('The mighty hunter: ', hunter.name)"
   ]
  },
  {
   "cell_type": "markdown",
   "metadata": {},
   "source": [
    "The use of `__init__` is not neccessary in all cases; it is used to do anything that's needed to distinguish this object from others created from the same class."
   ]
  },
  {
   "cell_type": "markdown",
   "metadata": {},
   "source": [
    "## Inheritance"
   ]
  },
  {
   "cell_type": "markdown",
   "metadata": {},
   "source": [
    "Iherit elements of parent class, and only modify specific elements if neccessary."
   ]
  },
  {
   "cell_type": "code",
   "execution_count": 6,
   "metadata": {
    "collapsed": true
   },
   "outputs": [],
   "source": [
    "# parent class\n",
    "class Car():\n",
    "    pass"
   ]
  },
  {
   "cell_type": "code",
   "execution_count": 7,
   "metadata": {
    "collapsed": true
   },
   "outputs": [],
   "source": [
    "# subclass\n",
    "class Yugo(Car):\n",
    "    pass"
   ]
  },
  {
   "cell_type": "code",
   "execution_count": 8,
   "metadata": {
    "collapsed": true
   },
   "outputs": [],
   "source": [
    "# now create an object from each class\n",
    "give_me_a_car = Car()\n",
    "give_me_a_yugo = Yugo()"
   ]
  },
  {
   "cell_type": "code",
   "execution_count": 11,
   "metadata": {
    "collapsed": false
   },
   "outputs": [
    {
     "name": "stdout",
     "output_type": "stream",
     "text": [
      "<class '__main__.Car'>\n",
      "<class '__main__.Yugo'>\n"
     ]
    }
   ],
   "source": [
    "print(type(give_me_a_car))\n",
    "print(type(give_me_a_yugo))"
   ]
  },
  {
   "cell_type": "code",
   "execution_count": 12,
   "metadata": {
    "collapsed": true
   },
   "outputs": [],
   "source": [
    "# New parent class page 127\n",
    "class Car():\n",
    "    def exclaim(self):\n",
    "        print(\"I'm a car!\")"
   ]
  },
  {
   "cell_type": "code",
   "execution_count": 13,
   "metadata": {
    "collapsed": true
   },
   "outputs": [],
   "source": [
    "class Yugo(Car):\n",
    "    pass"
   ]
  },
  {
   "cell_type": "code",
   "execution_count": 14,
   "metadata": {
    "collapsed": true
   },
   "outputs": [],
   "source": [
    "give_me_a_car = Car()\n",
    "give_me_a_yugo = Yugo()"
   ]
  },
  {
   "cell_type": "code",
   "execution_count": 18,
   "metadata": {
    "collapsed": false
   },
   "outputs": [
    {
     "name": "stdout",
     "output_type": "stream",
     "text": [
      "I'm a car!\n",
      "I'm a car!\n"
     ]
    }
   ],
   "source": [
    "give_me_a_car.exclaim()\n",
    "\n",
    "# same method exists for Yugo because it inherits the features of Car\n",
    "give_me_a_yugo.exclaim()"
   ]
  },
  {
   "cell_type": "markdown",
   "metadata": {},
   "source": [
    "## Override a method"
   ]
  },
  {
   "cell_type": "markdown",
   "metadata": {},
   "source": [
    "How to override a parent method"
   ]
  },
  {
   "cell_type": "code",
   "execution_count": 20,
   "metadata": {
    "collapsed": true
   },
   "outputs": [],
   "source": [
    "class Car():\n",
    "    def exclaim(self):\n",
    "        print(\"I'm a car!\")\n",
    "        \n",
    "        \n",
    "class Yugo(Car):\n",
    "    def exclaim(self):\n",
    "        print(\"I'm a Yugo!\")"
   ]
  },
  {
   "cell_type": "code",
   "execution_count": 21,
   "metadata": {
    "collapsed": true
   },
   "outputs": [],
   "source": [
    "give_me_a_car = Car()\n",
    "give_me_a_yugo = Yugo()"
   ]
  },
  {
   "cell_type": "code",
   "execution_count": 22,
   "metadata": {
    "collapsed": false
   },
   "outputs": [
    {
     "name": "stdout",
     "output_type": "stream",
     "text": [
      "I'm a car!\n",
      "I'm a Yugo!\n"
     ]
    }
   ],
   "source": [
    "give_me_a_car.exclaim()\n",
    "give_me_a_yugo.exclaim()"
   ]
  },
  {
   "cell_type": "markdown",
   "metadata": {},
   "source": [
    "In the example above, we modified the `exclaim` method. Now, for illustration, let's override the `__init__` method."
   ]
  },
  {
   "cell_type": "code",
   "execution_count": 27,
   "metadata": {
    "collapsed": true
   },
   "outputs": [],
   "source": [
    "# parent class\n",
    "class Person():\n",
    "    def __init__(self, name):\n",
    "        self.name = name\n",
    "\n",
    "# subclass doctor\n",
    "class MDPerson(Person):\n",
    "    def __init__(self, name):\n",
    "        self.name = 'Doctor ' + name\n",
    "        \n",
    "# subclass lawyer\n",
    "class JDPerson(Person):\n",
    "    def __init__(self, name):\n",
    "        self.name = name + ', Esquire'"
   ]
  },
  {
   "cell_type": "code",
   "execution_count": 30,
   "metadata": {
    "collapsed": true
   },
   "outputs": [],
   "source": [
    "# create one of each object: Person, MDPerson, and JDPerson\n",
    "person = Person('Bill Murray')\n",
    "doctor = MDPerson('Bill Murray')\n",
    "lawyer = JDPerson('Bill Murray')"
   ]
  },
  {
   "cell_type": "code",
   "execution_count": 29,
   "metadata": {
    "collapsed": false
   },
   "outputs": [
    {
     "name": "stdout",
     "output_type": "stream",
     "text": [
      "Bill Murray\n",
      "Doctor Bill Murray\n",
      "Bill Murray, Esquire\n"
     ]
    }
   ],
   "source": [
    "print(person.name)\n",
    "print(doctor.name)\n",
    "print(lawyer.name)"
   ]
  },
  {
   "cell_type": "markdown",
   "metadata": {},
   "source": [
    "## Add a Method"
   ]
  },
  {
   "cell_type": "code",
   "execution_count": 35,
   "metadata": {
    "collapsed": true
   },
   "outputs": [],
   "source": [
    "class Car():\n",
    "    def exclaim(self):\n",
    "        print(\"I'm a car!\")"
   ]
  },
  {
   "cell_type": "code",
   "execution_count": 36,
   "metadata": {
    "collapsed": false
   },
   "outputs": [],
   "source": [
    "class Yugo(Car):\n",
    "    def exclaim(self):\n",
    "        print(\"I'm a Yugo!\")\n",
    "    def need_a_push(self):\n",
    "        print(\"A litle help here?\")"
   ]
  },
  {
   "cell_type": "code",
   "execution_count": 38,
   "metadata": {
    "collapsed": false
   },
   "outputs": [],
   "source": [
    "give_car = Car()\n",
    "give_yugo = Yugo()"
   ]
  },
  {
   "cell_type": "code",
   "execution_count": 39,
   "metadata": {
    "collapsed": false
   },
   "outputs": [
    {
     "name": "stdout",
     "output_type": "stream",
     "text": [
      "A litle help here?\n"
     ]
    }
   ],
   "source": [
    "give_yugo.need_a_push()"
   ]
  },
  {
   "cell_type": "markdown",
   "metadata": {},
   "source": [
    "## Get Help fromYour Parent with Super"
   ]
  },
  {
   "cell_type": "code",
   "execution_count": 40,
   "metadata": {
    "collapsed": true
   },
   "outputs": [],
   "source": [
    "# same parent class for Person as before\n",
    "class Person():\n",
    "    def __init__(self, name):\n",
    "        self.name = name"
   ]
  },
  {
   "cell_type": "code",
   "execution_count": 41,
   "metadata": {
    "collapsed": true
   },
   "outputs": [],
   "source": [
    "# new class that explicity calls the Person.__init__() method after altering the __init__ methon in the previous line\n",
    "class EmailPerson(Person):\n",
    "    def __init__(self, name, email):\n",
    "        super().__init__(name)\n",
    "        self.email = email"
   ]
  },
  {
   "cell_type": "code",
   "execution_count": 42,
   "metadata": {
    "collapsed": true
   },
   "outputs": [],
   "source": [
    "# make an email person\n",
    "bob = EmailPerson('Bob Frapples', 'bob@frapples.com')"
   ]
  },
  {
   "cell_type": "code",
   "execution_count": 44,
   "metadata": {
    "collapsed": false
   },
   "outputs": [
    {
     "name": "stdout",
     "output_type": "stream",
     "text": [
      "Bob Frapples\n",
      "bob@frapples.com\n"
     ]
    }
   ],
   "source": [
    "print(bob.name)\n",
    "print(bob.email)"
   ]
  },
  {
   "cell_type": "markdown",
   "metadata": {},
   "source": [
    "Why didn't we just use `self.name` and `self.email` instead of calling `super()`? The answer is to get the benefits of inheritance. If the `Person()` class changes any time in the future, using `super()` "
   ]
  }
 ],
 "metadata": {
  "kernelspec": {
   "display_name": "Python 3",
   "language": "python",
   "name": "python3"
  },
  "language_info": {
   "codemirror_mode": {
    "name": "ipython",
    "version": 3
   },
   "file_extension": ".py",
   "mimetype": "text/x-python",
   "name": "python",
   "nbconvert_exporter": "python",
   "pygments_lexer": "ipython3",
   "version": "3.5.1"
  }
 },
 "nbformat": 4,
 "nbformat_minor": 0
}
