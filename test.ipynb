{
 "cells": [
  {
   "cell_type": "markdown",
   "metadata": {},
   "source": [
    "# First IPython \n",
    "I'm trying to get up and running with `python` and want to use the interactive IPython notebook to do so."
   ]
  },
  {
   "cell_type": "code",
   "execution_count": 20,
   "metadata": {
    "collapsed": false
   },
   "outputs": [
    {
     "name": "stdout",
     "output_type": "stream",
     "text": [
      "My Bro's name is Brandon Erwin.\n",
      "My Dad's name is David Erwin.\n",
      "My Sis's name is Ashley Matta.\n",
      "My Mom's name is Laura Erwin.\n"
     ]
    }
   ],
   "source": [
    "fam = {\"Dad\": \"David Erwin\",\n",
    "      \"Mom\": \"Laura Erwin\",\n",
    "      \"Sis\": \"Ashley Matta\",\n",
    "      \"Bro\": \"Brandon Erwin\"}\n",
    "\n",
    "for member in fam:\n",
    "    print(\"My %s's name is %s.\" % (member, fam[member]))"
   ]
  },
  {
   "cell_type": "code",
   "execution_count": 26,
   "metadata": {
    "collapsed": false
   },
   "outputs": [],
   "source": [
    "from bs4 import BeautifulSoup"
   ]
  },
  {
   "cell_type": "code",
   "execution_count": null,
   "metadata": {
    "collapsed": true
   },
   "outputs": [],
   "source": []
  }
 ],
 "metadata": {
  "kernelspec": {
   "display_name": "Python 3",
   "language": "python",
   "name": "python3"
  },
  "language_info": {
   "codemirror_mode": {
    "name": "ipython",
    "version": 3
   },
   "file_extension": ".py",
   "mimetype": "text/x-python",
   "name": "python",
   "nbconvert_exporter": "python",
   "pygments_lexer": "ipython3",
   "version": "3.5.1"
  }
 },
 "nbformat": 4,
 "nbformat_minor": 0
}
